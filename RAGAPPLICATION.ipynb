{
 "cells": [
  {
   "cell_type": "markdown",
   "id": "666e2faf-2376-4c5d-b636-3086e553398d",
   "metadata": {},
   "source": [
    "# Import PDF Document"
   ]
  },
  {
   "cell_type": "code",
   "execution_count": 1,
   "id": "c398fc22-f667-49b8-bd0a-8235fe38138f",
   "metadata": {},
   "outputs": [
    {
     "name": "stdout",
     "output_type": "stream",
     "text": [
      "File human-nutrition-text.pdf exists.\n"
     ]
    }
   ],
   "source": [
    "import os\n",
    "import requests\n",
    "\n",
    "# Get PDF document path\n",
    "pdf_path = \"human-nutrition-text.pdf\"\n",
    "\n",
    "# Download PDF\n",
    "if not os.path.exists(pdf_path):\n",
    "    print(f\"[INFO] File Doesn't exist, downloading,\")\n",
    "\n",
    "    # Enter URL for pdf\n",
    "    url = \"https://pressbooks.oer.hawaii.edu/humannutrition2/open/download?type=pdf\"\n",
    "\n",
    "    # The local filename to save the downloaded file\n",
    "    file_name = pdf_path\n",
    "\n",
    "    # Send get request\n",
    "\n",
    "    response = requests.get(url)\n",
    "\n",
    "    # Check if the request is successfull\n",
    "    if response.status_code == 200:\n",
    "        # open the file and save it\n",
    "        with open(file_name,\"wb\") as file:\n",
    "            file.write(response.content)\n",
    "        print(f\"[INFO] The file has been downloaded and save as {file_name}\")\n",
    "    else:\n",
    "        print(f\"[INFO] We have faild to download the file {response.status_code}\")\n",
    "else:\n",
    "    print(f\"File {pdf_path} exists.\")"
   ]
  },
  {
   "cell_type": "code",
   "execution_count": 2,
   "id": "1c6f1bc1-ebc1-491e-aa15-4424df2e8495",
   "metadata": {},
   "outputs": [],
   "source": [
    "import fitz\n",
    "from tqdm.auto import tqdm"
   ]
  },
  {
   "cell_type": "markdown",
   "id": "54ae5e94-83ba-4fee-9305-ec4d4b4e468b",
   "metadata": {},
   "source": [
    "we got pdf PDF lets open it using\n",
    "(PyMuPDF,pypdf)\n",
    "PyMuPDF==1.23.26"
   ]
  },
  {
   "cell_type": "code",
   "execution_count": 3,
   "id": "27abcd52-817f-443c-a9c8-106abf6cf294",
   "metadata": {},
   "outputs": [
    {
     "data": {
      "application/vnd.jupyter.widget-view+json": {
       "model_id": "eccb0d0be588442189d63e1dbc9e21e1",
       "version_major": 2,
       "version_minor": 0
      },
      "text/plain": [
       "0it [00:00, ?it/s]"
      ]
     },
     "metadata": {},
     "output_type": "display_data"
    },
    {
     "data": {
      "text/plain": [
       "[{'page_number': -41,\n",
       "  'page_char_count': 29,\n",
       "  'page_word_count': 4,\n",
       "  'page_sentence_count_raw': 1,\n",
       "  'page_token_count': 7.25,\n",
       "  'text': 'Human Nutrition: 2020 Edition'},\n",
       " {'page_number': -40,\n",
       "  'page_char_count': 0,\n",
       "  'page_word_count': 1,\n",
       "  'page_sentence_count_raw': 1,\n",
       "  'page_token_count': 0.0,\n",
       "  'text': ''}]"
      ]
     },
     "execution_count": 3,
     "metadata": {},
     "output_type": "execute_result"
    }
   ],
   "source": [
    "import fitz\n",
    "from tqdm.auto import tqdm # pip install tqdm\n",
    "def text_formatter(text: str) -> str:\n",
    "    \"\"\"Performs minor formatting on text.\"\"\"\n",
    "    cleaned_text = text.replace(\"\\n\",\" \").strip()\n",
    "\n",
    "    # Potentially more text formatting functions can go here\n",
    "\n",
    "    return cleaned_text\n",
    "\n",
    "def open_and_read_pdf(pdf_path:str) -> list[dict]:\n",
    "    doc = fitz.open(pdf_path)\n",
    "    pages_and_texts = []\n",
    "    for page_number, page in tqdm(enumerate(doc)): # page_numeber-0 to n \n",
    "        text = page.get_text()\n",
    "        text = text_formatter(text)\n",
    "        pages_and_texts.append({\"page_number\" : page_number - 41,\n",
    "                                \"page_char_count\":len(text),\n",
    "                                \"page_word_count\":len(text.split(\" \")),\n",
    "                                \"page_sentence_count_raw\":len(text.split(\". \")),\n",
    "                                \"page_token_count\":len(text) / 4, # 1 token = ~4 characters\n",
    "                                \"text\" :text})\n",
    "    return pages_and_texts\n",
    "pages_and_texts = open_and_read_pdf(pdf_path=pdf_path)\n",
    "pages_and_texts[:2]"
   ]
  },
  {
   "cell_type": "code",
   "execution_count": 4,
   "id": "54ba0663-9e0b-4c84-8bed-02e72f58bcad",
   "metadata": {},
   "outputs": [
    {
     "data": {
      "text/plain": [
       "[{'page_number': 997,\n",
       "  'page_char_count': 1631,\n",
       "  'page_word_count': 284,\n",
       "  'page_sentence_count_raw': 13,\n",
       "  'page_token_count': 407.75,\n",
       "  'text': 'The Causes of Food  Contamination  UNIVERSITY OF HAWAI‘I AT MĀNOA FOOD SCIENCE AND HUMAN  NUTRITION PROGRAM AND HUMAN NUTRITION PROGRAM  Both food infections and food intoxications can create a burden on  health systems, when patients require treatment and support, and  on food systems, when companies must recall contaminated food  or address public concerns. It all begins with the agent that causes  the contamination. When a person ingests a food contaminant, it  travels to the stomach and intestines. There, it can interfere with  the body’s functions and make you sick. In the next part, we will  focus on different types of food contaminants and examine common  microbes, toxins, chemicals, and other substances that can cause  food infections and intoxications. Let’s begin with pathogens, which  include bacteria and viruses. About one hundred years ago, typhoid  fever, tuberculosis, and cholera were common diseases caused by  food  and  water  contaminated  by  pathogens.  Over  time,  improvements in food processing and water treatment eliminated  most of those problems in North America. Today, other bacteria and  viruses have become common causes of food infection.  Bacteria  All foods naturally contain small amounts of bacteria. However, poor  handling and preparation of food, along with improper cooking or  storage can multiply bacteria and cause illness. In addition, bacteria  can multiply quickly when cooked food is left out at room  temperature for more than a few hours. Most bacteria grow  undetected because they do not change the color or texture of food  The Causes of Food Contamination  |  997'},\n",
       " {'page_number': 1012,\n",
       "  'page_char_count': 1874,\n",
       "  'page_word_count': 319,\n",
       "  'page_sentence_count_raw': 22,\n",
       "  'page_token_count': 468.5,\n",
       "  'text': 'The USDA and the FDA enforce laws regarding the safety of  domestic and imported food. In addition, the Federal Food, Drug,  and Cosmetic Act of 1938 gives the FDA authority over food  ingredients. The FDA enforces the safety of domestic and imported  foods. It also monitors supplements, food labels, claims that  corporations  make  about  the  benefits  of  products,  and  pharmaceutical  drugs.  Sometimes,  the  FDA  must  recall  contaminated foods and remove them from the market to protect  public health. For example, in 2011 contaminated peanut butter led  to the recall of thousands of jars of a few popular brands.2 Recalls  are almost always voluntary and often are requested by companies  after a problem has been discovered. In rare cases, the FDA will  request a recall. But no matter what triggers the removal of a  product, the FDA’s role is to oversee the strategy and assess the  adequacy and effectiveness of the recall.  Many consumers have concerns about safety practices during the  production and distribution of food. This is especially critical given  recent outbreaks of foodborne illnesses. For example, during fall  2011 in the United States, there was an eruption of the bacteria  Listeria monocytogenes in cantaloupe. It was one of the deadliest  outbreaks in over a decade and resulted in a number of deaths and  hospitalizations.3 In January 2011, the Food Safety Modernization  n+in+the+United+States. Published February 4, 2010.  Accessed January 28, 2018.\\xa0 2.\\xa0FDA 101: Product Recalls—From First Alert to  Effectiveness Checks. (2011). US Food and Drug  Administration. http://www.fda.gov/ForConsumers/ ConsumerUpdates/ucm049070.htm. Updated  September 9, 2011. Accessed January 18, 2018.  3.\\xa0Centers for Disease Control and Prevention. (2011).  “Multistate Outbreak of Listeriosis Associated with  1012  |  Protecting the Public Health'},\n",
       " {'page_number': 650,\n",
       "  'page_char_count': 0,\n",
       "  'page_word_count': 1,\n",
       "  'page_sentence_count_raw': 1,\n",
       "  'page_token_count': 0.0,\n",
       "  'text': ''}]"
      ]
     },
     "execution_count": 4,
     "metadata": {},
     "output_type": "execute_result"
    }
   ],
   "source": [
    "import random\n",
    "random.sample(pages_and_texts,k=3)"
   ]
  },
  {
   "cell_type": "code",
   "execution_count": 5,
   "id": "8f9b1466-52ee-414b-b69d-a371e8609663",
   "metadata": {},
   "outputs": [
    {
     "data": {
      "text/html": [
       "<div>\n",
       "<style scoped>\n",
       "    .dataframe tbody tr th:only-of-type {\n",
       "        vertical-align: middle;\n",
       "    }\n",
       "\n",
       "    .dataframe tbody tr th {\n",
       "        vertical-align: top;\n",
       "    }\n",
       "\n",
       "    .dataframe thead th {\n",
       "        text-align: right;\n",
       "    }\n",
       "</style>\n",
       "<table border=\"1\" class=\"dataframe\">\n",
       "  <thead>\n",
       "    <tr style=\"text-align: right;\">\n",
       "      <th></th>\n",
       "      <th>page_number</th>\n",
       "      <th>page_char_count</th>\n",
       "      <th>page_word_count</th>\n",
       "      <th>page_sentence_count_raw</th>\n",
       "      <th>page_token_count</th>\n",
       "      <th>text</th>\n",
       "    </tr>\n",
       "  </thead>\n",
       "  <tbody>\n",
       "    <tr>\n",
       "      <th>0</th>\n",
       "      <td>-41</td>\n",
       "      <td>29</td>\n",
       "      <td>4</td>\n",
       "      <td>1</td>\n",
       "      <td>7.25</td>\n",
       "      <td>Human Nutrition: 2020 Edition</td>\n",
       "    </tr>\n",
       "    <tr>\n",
       "      <th>1</th>\n",
       "      <td>-40</td>\n",
       "      <td>0</td>\n",
       "      <td>1</td>\n",
       "      <td>1</td>\n",
       "      <td>0.00</td>\n",
       "      <td></td>\n",
       "    </tr>\n",
       "    <tr>\n",
       "      <th>2</th>\n",
       "      <td>-39</td>\n",
       "      <td>320</td>\n",
       "      <td>54</td>\n",
       "      <td>1</td>\n",
       "      <td>80.00</td>\n",
       "      <td>Human Nutrition: 2020  Edition  UNIVERSITY OF ...</td>\n",
       "    </tr>\n",
       "    <tr>\n",
       "      <th>3</th>\n",
       "      <td>-38</td>\n",
       "      <td>212</td>\n",
       "      <td>32</td>\n",
       "      <td>1</td>\n",
       "      <td>53.00</td>\n",
       "      <td>Human Nutrition: 2020 Edition by University of...</td>\n",
       "    </tr>\n",
       "    <tr>\n",
       "      <th>4</th>\n",
       "      <td>-37</td>\n",
       "      <td>797</td>\n",
       "      <td>145</td>\n",
       "      <td>2</td>\n",
       "      <td>199.25</td>\n",
       "      <td>Contents  Preface  University of Hawai‘i at Mā...</td>\n",
       "    </tr>\n",
       "    <tr>\n",
       "      <th>...</th>\n",
       "      <td>...</td>\n",
       "      <td>...</td>\n",
       "      <td>...</td>\n",
       "      <td>...</td>\n",
       "      <td>...</td>\n",
       "      <td>...</td>\n",
       "    </tr>\n",
       "    <tr>\n",
       "      <th>1203</th>\n",
       "      <td>1162</td>\n",
       "      <td>1676</td>\n",
       "      <td>252</td>\n",
       "      <td>18</td>\n",
       "      <td>419.00</td>\n",
       "      <td>39. Exercise 10.2 &amp; 11.3 reused “Egg Oval Food...</td>\n",
       "    </tr>\n",
       "    <tr>\n",
       "      <th>1204</th>\n",
       "      <td>1163</td>\n",
       "      <td>1617</td>\n",
       "      <td>254</td>\n",
       "      <td>10</td>\n",
       "      <td>404.25</td>\n",
       "      <td>Images / Pixabay License; “Pumpkin Cartoon Ora...</td>\n",
       "    </tr>\n",
       "    <tr>\n",
       "      <th>1205</th>\n",
       "      <td>1164</td>\n",
       "      <td>1715</td>\n",
       "      <td>261</td>\n",
       "      <td>13</td>\n",
       "      <td>428.75</td>\n",
       "      <td>Flashcard Images  Note: Most images in the fla...</td>\n",
       "    </tr>\n",
       "    <tr>\n",
       "      <th>1206</th>\n",
       "      <td>1165</td>\n",
       "      <td>1733</td>\n",
       "      <td>268</td>\n",
       "      <td>13</td>\n",
       "      <td>433.25</td>\n",
       "      <td>ShareAlike  11. Organs reused “Pancreas Organ ...</td>\n",
       "    </tr>\n",
       "    <tr>\n",
       "      <th>1207</th>\n",
       "      <td>1166</td>\n",
       "      <td>257</td>\n",
       "      <td>44</td>\n",
       "      <td>3</td>\n",
       "      <td>64.25</td>\n",
       "      <td>23. Vitamin D reused “The Functions of Vitamin...</td>\n",
       "    </tr>\n",
       "  </tbody>\n",
       "</table>\n",
       "<p>1208 rows × 6 columns</p>\n",
       "</div>"
      ],
      "text/plain": [
       "      page_number  page_char_count  page_word_count  page_sentence_count_raw  \\\n",
       "0             -41               29                4                        1   \n",
       "1             -40                0                1                        1   \n",
       "2             -39              320               54                        1   \n",
       "3             -38              212               32                        1   \n",
       "4             -37              797              145                        2   \n",
       "...           ...              ...              ...                      ...   \n",
       "1203         1162             1676              252                       18   \n",
       "1204         1163             1617              254                       10   \n",
       "1205         1164             1715              261                       13   \n",
       "1206         1165             1733              268                       13   \n",
       "1207         1166              257               44                        3   \n",
       "\n",
       "      page_token_count                                               text  \n",
       "0                 7.25                      Human Nutrition: 2020 Edition  \n",
       "1                 0.00                                                     \n",
       "2                80.00  Human Nutrition: 2020  Edition  UNIVERSITY OF ...  \n",
       "3                53.00  Human Nutrition: 2020 Edition by University of...  \n",
       "4               199.25  Contents  Preface  University of Hawai‘i at Mā...  \n",
       "...                ...                                                ...  \n",
       "1203            419.00  39. Exercise 10.2 & 11.3 reused “Egg Oval Food...  \n",
       "1204            404.25  Images / Pixabay License; “Pumpkin Cartoon Ora...  \n",
       "1205            428.75  Flashcard Images  Note: Most images in the fla...  \n",
       "1206            433.25  ShareAlike  11. Organs reused “Pancreas Organ ...  \n",
       "1207             64.25  23. Vitamin D reused “The Functions of Vitamin...  \n",
       "\n",
       "[1208 rows x 6 columns]"
      ]
     },
     "execution_count": 5,
     "metadata": {},
     "output_type": "execute_result"
    }
   ],
   "source": [
    "import pandas as pd\n",
    "df=pd.DataFrame(pages_and_texts)\n",
    "df"
   ]
  },
  {
   "cell_type": "code",
   "execution_count": 6,
   "id": "af78fe07-ab55-4d71-b516-1db07bf3c0bf",
   "metadata": {},
   "outputs": [
    {
     "data": {
      "text/html": [
       "<div>\n",
       "<style scoped>\n",
       "    .dataframe tbody tr th:only-of-type {\n",
       "        vertical-align: middle;\n",
       "    }\n",
       "\n",
       "    .dataframe tbody tr th {\n",
       "        vertical-align: top;\n",
       "    }\n",
       "\n",
       "    .dataframe thead th {\n",
       "        text-align: right;\n",
       "    }\n",
       "</style>\n",
       "<table border=\"1\" class=\"dataframe\">\n",
       "  <thead>\n",
       "    <tr style=\"text-align: right;\">\n",
       "      <th></th>\n",
       "      <th>page_number</th>\n",
       "      <th>page_char_count</th>\n",
       "      <th>page_word_count</th>\n",
       "      <th>page_sentence_count_raw</th>\n",
       "      <th>page_token_count</th>\n",
       "    </tr>\n",
       "  </thead>\n",
       "  <tbody>\n",
       "    <tr>\n",
       "      <th>count</th>\n",
       "      <td>1208.00</td>\n",
       "      <td>1208.00</td>\n",
       "      <td>1208.00</td>\n",
       "      <td>1208.00</td>\n",
       "      <td>1208.00</td>\n",
       "    </tr>\n",
       "    <tr>\n",
       "      <th>mean</th>\n",
       "      <td>562.50</td>\n",
       "      <td>1148.00</td>\n",
       "      <td>198.30</td>\n",
       "      <td>9.97</td>\n",
       "      <td>287.00</td>\n",
       "    </tr>\n",
       "    <tr>\n",
       "      <th>std</th>\n",
       "      <td>348.86</td>\n",
       "      <td>560.38</td>\n",
       "      <td>95.76</td>\n",
       "      <td>6.19</td>\n",
       "      <td>140.10</td>\n",
       "    </tr>\n",
       "    <tr>\n",
       "      <th>min</th>\n",
       "      <td>-41.00</td>\n",
       "      <td>0.00</td>\n",
       "      <td>1.00</td>\n",
       "      <td>1.00</td>\n",
       "      <td>0.00</td>\n",
       "    </tr>\n",
       "    <tr>\n",
       "      <th>25%</th>\n",
       "      <td>260.75</td>\n",
       "      <td>762.00</td>\n",
       "      <td>134.00</td>\n",
       "      <td>4.00</td>\n",
       "      <td>190.50</td>\n",
       "    </tr>\n",
       "    <tr>\n",
       "      <th>50%</th>\n",
       "      <td>562.50</td>\n",
       "      <td>1231.50</td>\n",
       "      <td>214.50</td>\n",
       "      <td>10.00</td>\n",
       "      <td>307.88</td>\n",
       "    </tr>\n",
       "    <tr>\n",
       "      <th>75%</th>\n",
       "      <td>864.25</td>\n",
       "      <td>1603.50</td>\n",
       "      <td>271.00</td>\n",
       "      <td>14.00</td>\n",
       "      <td>400.88</td>\n",
       "    </tr>\n",
       "    <tr>\n",
       "      <th>max</th>\n",
       "      <td>1166.00</td>\n",
       "      <td>2308.00</td>\n",
       "      <td>429.00</td>\n",
       "      <td>32.00</td>\n",
       "      <td>577.00</td>\n",
       "    </tr>\n",
       "  </tbody>\n",
       "</table>\n",
       "</div>"
      ],
      "text/plain": [
       "       page_number  page_char_count  page_word_count  page_sentence_count_raw  \\\n",
       "count      1208.00          1208.00          1208.00                  1208.00   \n",
       "mean        562.50          1148.00           198.30                     9.97   \n",
       "std         348.86           560.38            95.76                     6.19   \n",
       "min         -41.00             0.00             1.00                     1.00   \n",
       "25%         260.75           762.00           134.00                     4.00   \n",
       "50%         562.50          1231.50           214.50                    10.00   \n",
       "75%         864.25          1603.50           271.00                    14.00   \n",
       "max        1166.00          2308.00           429.00                    32.00   \n",
       "\n",
       "       page_token_count  \n",
       "count           1208.00  \n",
       "mean             287.00  \n",
       "std              140.10  \n",
       "min                0.00  \n",
       "25%              190.50  \n",
       "50%              307.88  \n",
       "75%              400.88  \n",
       "max              577.00  "
      ]
     },
     "execution_count": 6,
     "metadata": {},
     "output_type": "execute_result"
    }
   ],
   "source": [
    "df.describe().round(2)"
   ]
  },
  {
   "cell_type": "markdown",
   "id": "b7499fea-bd60-4f46-81da-427b44c0b8bf",
   "metadata": {},
   "source": [
    "Why would we care about token count ?\n",
    "\n",
    "Token count is important to think about because:\n",
    "1. Embedding models don't deal with infinite tokens.\n",
    "2. LLMs don't deal with infinite tokens.\n",
    "\n",
    "For example an embedding model may have been trained to embed sequences of 384 tokens into numerical space (sentence-transformers all-mpnet-base-v2, see: https://sbert.net/docs/sentence_transformer/pretrained_models.html).\n",
    "\n",
    "As for LLMs, they can't accept infinits tokens in their context window"
   ]
  },
  {
   "cell_type": "markdown",
   "id": "d0be49dd-9382-47ba-8fbd-68d22bd52235",
   "metadata": {},
   "source": [
    "### Further text processing (splitting pages into sentences)"
   ]
  },
  {
   "cell_type": "markdown",
   "id": "2d6be3cd-3d58-4a25-8d8f-f9cf44431439",
   "metadata": {},
   "source": [
    "Two ways to do this\n",
    "1. We've done this by splitting on `\". \"`.\n",
    "2. We can do this with a NLP library such as spacy and nltk."
   ]
  },
  {
   "cell_type": "code",
   "execution_count": 7,
   "id": "32880d6f-28b5-42e5-bfb3-7e029e48124e",
   "metadata": {},
   "outputs": [
    {
     "data": {
      "text/plain": [
       "[This is a sentence., This another sentence., I like elephants.]"
      ]
     },
     "execution_count": 7,
     "metadata": {},
     "output_type": "execute_result"
    }
   ],
   "source": [
    "from spacy.lang.en import English\n",
    "\n",
    "nlp = English()\n",
    "\n",
    "# Add a sentencizer pipeline, see\n",
    "nlp.add_pipe(\"sentencizer\")\n",
    "\n",
    "# Create document instance as an example\n",
    "\n",
    "doc = nlp(\"This is a sentence. This another sentence. I like elephants.\")\n",
    "\n",
    "assert len(list(doc.sents)) == 3\n",
    "\n",
    "# print our sentence split\n",
    "list(doc.sents)"
   ]
  },
  {
   "cell_type": "code",
   "execution_count": 8,
   "id": "460a08b4-5ec0-42d2-8e6f-ae4ff668c422",
   "metadata": {},
   "outputs": [
    {
     "data": {
      "application/vnd.jupyter.widget-view+json": {
       "model_id": "fb1902b571b545b09c93240a3bd02b7f",
       "version_major": 2,
       "version_minor": 0
      },
      "text/plain": [
       "  0%|          | 0/1208 [00:00<?, ?it/s]"
      ]
     },
     "metadata": {},
     "output_type": "display_data"
    }
   ],
   "source": [
    "for item in tqdm(pages_and_texts):\n",
    "    item[\"sentences\"] = list(nlp(item[\"text\"]).sents)\n",
    "# Make sure all sentence are string ( the default type is spaCy datatype)\n",
    "    item[\"sentences\"] = [str(sentence) for sentence in item[\"sentences\"]]\n",
    "\n",
    "# count the sentence \n",
    "    item[\"page_sentence_count_spacy\"] = len(item[\"sentences\"])"
   ]
  },
  {
   "cell_type": "code",
   "execution_count": 9,
   "id": "7eeb4eac-71da-4d5a-8cd1-3570bde975d4",
   "metadata": {},
   "outputs": [
    {
     "data": {
      "text/plain": [
       "[{'page_number': 942,\n",
       "  'page_char_count': 1071,\n",
       "  'page_word_count': 160,\n",
       "  'page_sentence_count_raw': 6,\n",
       "  'page_token_count': 267.75,\n",
       "  'text': 'Image by  Allison  Calabrese /  CC BY 4.0  Physical Activity Recommendations  The CDC along with the American College of Sports Medicine  (ACSM) have evidence based \\xa0recommendations and guidelines for  individuals to follow in order to obtain or maintain a healthy  lifestyle. Adults should get at least 150 minutes of moderate- intensity aerobic physical activity or 75 minutes of vigorous- intensity aerobic physical activity each week. In addition to aerobic  physical activity, it is recommended that adults do muscle  strengthening activities on each major muscle group two or three  times each week. Adults also are recommended by the ACSM to do  flexibility exercises at least two to three times a week to improve  range of motion. To learn more about these guidelines visit the CDC  website at https://health.gov/paguidelines/guidelines/adults.aspx  and the ACSM website at\\xa0http://www.acsm.org/about-acsm/ media-room/news-releases/2011/08/01/acsm-issues-new- recommendations-on-quantity-and-quality-of-exercise.  942  |  The Essential Elements of Physical Fitness',\n",
       "  'sentences': ['Image by  Allison  Calabrese /  CC BY 4.0  Physical Activity Recommendations  The CDC along with the American College of Sports Medicine  (ACSM) have evidence based \\xa0recommendations and guidelines for  individuals to follow in order to obtain or maintain a healthy  lifestyle.',\n",
       "   'Adults should get at least 150 minutes of moderate- intensity aerobic physical activity or 75 minutes of vigorous- intensity aerobic physical activity each week.',\n",
       "   'In addition to aerobic  physical activity, it is recommended that adults do muscle  strengthening activities on each major muscle group two or three  times each week.',\n",
       "   'Adults also are recommended by the ACSM to do  flexibility exercises at least two to three times a week to improve  range of motion.',\n",
       "   'To learn more about these guidelines visit the CDC  website at https://health.gov/paguidelines/guidelines/adults.aspx  and the ACSM website at\\xa0http://www.acsm.org/about-acsm/ media-room/news-releases/2011/08/01/acsm-issues-new- recommendations-on-quantity-and-quality-of-exercise.',\n",
       "   ' 942  |  The Essential Elements of Physical Fitness'],\n",
       "  'page_sentence_count_spacy': 6}]"
      ]
     },
     "execution_count": 9,
     "metadata": {},
     "output_type": "execute_result"
    }
   ],
   "source": [
    "random.sample(pages_and_texts,k=1)"
   ]
  },
  {
   "cell_type": "code",
   "execution_count": 10,
   "id": "da19ff5c-5714-4a8a-8053-669e1e1a6e3e",
   "metadata": {},
   "outputs": [
    {
     "data": {
      "text/html": [
       "<div>\n",
       "<style scoped>\n",
       "    .dataframe tbody tr th:only-of-type {\n",
       "        vertical-align: middle;\n",
       "    }\n",
       "\n",
       "    .dataframe tbody tr th {\n",
       "        vertical-align: top;\n",
       "    }\n",
       "\n",
       "    .dataframe thead th {\n",
       "        text-align: right;\n",
       "    }\n",
       "</style>\n",
       "<table border=\"1\" class=\"dataframe\">\n",
       "  <thead>\n",
       "    <tr style=\"text-align: right;\">\n",
       "      <th></th>\n",
       "      <th>page_number</th>\n",
       "      <th>page_char_count</th>\n",
       "      <th>page_word_count</th>\n",
       "      <th>page_sentence_count_raw</th>\n",
       "      <th>page_token_count</th>\n",
       "      <th>page_sentence_count_spacy</th>\n",
       "    </tr>\n",
       "  </thead>\n",
       "  <tbody>\n",
       "    <tr>\n",
       "      <th>count</th>\n",
       "      <td>1208.00</td>\n",
       "      <td>1208.00</td>\n",
       "      <td>1208.00</td>\n",
       "      <td>1208.00</td>\n",
       "      <td>1208.00</td>\n",
       "      <td>1208.00</td>\n",
       "    </tr>\n",
       "    <tr>\n",
       "      <th>mean</th>\n",
       "      <td>562.50</td>\n",
       "      <td>1148.00</td>\n",
       "      <td>198.30</td>\n",
       "      <td>9.97</td>\n",
       "      <td>287.00</td>\n",
       "      <td>10.32</td>\n",
       "    </tr>\n",
       "    <tr>\n",
       "      <th>std</th>\n",
       "      <td>348.86</td>\n",
       "      <td>560.38</td>\n",
       "      <td>95.76</td>\n",
       "      <td>6.19</td>\n",
       "      <td>140.10</td>\n",
       "      <td>6.30</td>\n",
       "    </tr>\n",
       "    <tr>\n",
       "      <th>min</th>\n",
       "      <td>-41.00</td>\n",
       "      <td>0.00</td>\n",
       "      <td>1.00</td>\n",
       "      <td>1.00</td>\n",
       "      <td>0.00</td>\n",
       "      <td>0.00</td>\n",
       "    </tr>\n",
       "    <tr>\n",
       "      <th>25%</th>\n",
       "      <td>260.75</td>\n",
       "      <td>762.00</td>\n",
       "      <td>134.00</td>\n",
       "      <td>4.00</td>\n",
       "      <td>190.50</td>\n",
       "      <td>5.00</td>\n",
       "    </tr>\n",
       "    <tr>\n",
       "      <th>50%</th>\n",
       "      <td>562.50</td>\n",
       "      <td>1231.50</td>\n",
       "      <td>214.50</td>\n",
       "      <td>10.00</td>\n",
       "      <td>307.88</td>\n",
       "      <td>10.00</td>\n",
       "    </tr>\n",
       "    <tr>\n",
       "      <th>75%</th>\n",
       "      <td>864.25</td>\n",
       "      <td>1603.50</td>\n",
       "      <td>271.00</td>\n",
       "      <td>14.00</td>\n",
       "      <td>400.88</td>\n",
       "      <td>15.00</td>\n",
       "    </tr>\n",
       "    <tr>\n",
       "      <th>max</th>\n",
       "      <td>1166.00</td>\n",
       "      <td>2308.00</td>\n",
       "      <td>429.00</td>\n",
       "      <td>32.00</td>\n",
       "      <td>577.00</td>\n",
       "      <td>28.00</td>\n",
       "    </tr>\n",
       "  </tbody>\n",
       "</table>\n",
       "</div>"
      ],
      "text/plain": [
       "       page_number  page_char_count  page_word_count  page_sentence_count_raw  \\\n",
       "count      1208.00          1208.00          1208.00                  1208.00   \n",
       "mean        562.50          1148.00           198.30                     9.97   \n",
       "std         348.86           560.38            95.76                     6.19   \n",
       "min         -41.00             0.00             1.00                     1.00   \n",
       "25%         260.75           762.00           134.00                     4.00   \n",
       "50%         562.50          1231.50           214.50                    10.00   \n",
       "75%         864.25          1603.50           271.00                    14.00   \n",
       "max        1166.00          2308.00           429.00                    32.00   \n",
       "\n",
       "       page_token_count  page_sentence_count_spacy  \n",
       "count           1208.00                    1208.00  \n",
       "mean             287.00                      10.32  \n",
       "std              140.10                       6.30  \n",
       "min                0.00                       0.00  \n",
       "25%              190.50                       5.00  \n",
       "50%              307.88                      10.00  \n",
       "75%              400.88                      15.00  \n",
       "max              577.00                      28.00  "
      ]
     },
     "execution_count": 10,
     "metadata": {},
     "output_type": "execute_result"
    }
   ],
   "source": [
    "df = pd.DataFrame(pages_and_texts)\n",
    "df.describe().round(2)"
   ]
  },
  {
   "cell_type": "markdown",
   "id": "18a17d80-c70f-4798-a003-6d58be37ed5f",
   "metadata": {},
   "source": [
    "### Chunking our sentence together \n",
    "\n",
    "The concept of splitting larger pices of text into smaller ones is often referred to as text splitting or chunking.\n",
    "\n",
    "There is no 100% correct way to do this.\n",
    "\n",
    "we'll keep it simple and split into groups of 10 sentences (however, you could also try 5, 7 ,8, whatever you like)\n",
    "\n",
    "Why we do this:\n",
    "1. So our texts are easier to filter (smaller groups of text can be easier to inspect that large passages of text).\n",
    "2. So our texts chunks can fit into our embeddings model context window (e.g. 384 tokens as a limit)\n",
    "3. So our contexts passed to the LLM can be more specefic and focused."
   ]
  },
  {
   "cell_type": "code",
   "execution_count": 11,
   "id": "0c98d482-1199-4fb8-9dcf-4df489af8d75",
   "metadata": {},
   "outputs": [
    {
     "data": {
      "text/plain": [
       "[[0, 1, 2, 3, 4, 5, 6, 7, 8, 9],\n",
       " [10, 11, 12, 13, 14, 15, 16, 17, 18, 19],\n",
       " [20, 21, 22, 23, 24]]"
      ]
     },
     "execution_count": 11,
     "metadata": {},
     "output_type": "execute_result"
    }
   ],
   "source": [
    "# Define split size to turn groups of sentences into chunks \n",
    "nums_sentence_chunk_size = 10\n",
    "\n",
    "# Create a function to split the list of text recursivly into chunk size\n",
    "\n",
    "# e.g. list of 20 -> [10,10] or 25 -> [10,10,5]\n",
    "def split_list(input_list:list,\n",
    "               slice_size:int = nums_sentence_chunk_size) -> list[list[str]]:\n",
    "    return [input_list[i:i+ slice_size] for i in range (0, len(input_list),slice_size)]\n",
    "\n",
    "test_list = list(range(25))\n",
    "split_list(test_list)"
   ]
  },
  {
   "cell_type": "code",
   "execution_count": 12,
   "id": "3c0a66cd-7ef7-41f5-bb1d-05effb6b7a3e",
   "metadata": {},
   "outputs": [
    {
     "data": {
      "application/vnd.jupyter.widget-view+json": {
       "model_id": "f3d5864b6bd8425981c53dab367c472d",
       "version_major": 2,
       "version_minor": 0
      },
      "text/plain": [
       "  0%|          | 0/1208 [00:00<?, ?it/s]"
      ]
     },
     "metadata": {},
     "output_type": "display_data"
    }
   ],
   "source": [
    "# loop through pages and text and split into chunks\n",
    "for item in tqdm(pages_and_texts):\n",
    "    item[\"sentence_chunks\"]=split_list(input_list=item[\"sentences\"],\n",
    "                                      slice_size=nums_sentence_chunk_size)\n",
    "    item[\"num_chunks\"] = len(item[\"sentence_chunks\"])"
   ]
  },
  {
   "cell_type": "code",
   "execution_count": 13,
   "id": "33bf8dc3-1356-4ad8-a977-80fed91f3ce7",
   "metadata": {},
   "outputs": [
    {
     "data": {
      "text/plain": [
       "[{'page_number': 460,\n",
       "  'page_char_count': 1958,\n",
       "  'page_word_count': 337,\n",
       "  'page_sentence_count_raw': 19,\n",
       "  'page_token_count': 489.5,\n",
       "  'text': 'The Atom  UNIVERSITY OF HAWAI‘I AT MĀNOA FOOD SCIENCE AND HUMAN  NUTRITION PROGRAM AND HUMAN NUTRITION PROGRAM  Cells are the basic building blocks of life, but atoms are the basic  building blocks of all matter, living and nonliving. The structural  elements of an atom are protons (positively charged), neutrons (no  charge), and electrons (negatively charged). Protons and neutrons  are contained in the dense nucleus of the atom; the nucleus thus has  a positive charge. Because opposites attract, electrons are attracted  to this nucleus and move around it in the electron cloud.  Electrons contain energy, and this energy is stored within the  charge and movement of electrons and the bonds atoms make with  one another. However, this energy is not always stable, depending  on the number of electrons within an atom. Atoms are more stable  when their electrons orbit in pairs. An atom with an odd number  of electrons must have an unpaired electron. In most cases, these  unpaired electrons are used to create chemical bonds. A chemical  bond is the attractive force between atoms and contains potential  energy. By bonding, electrons find pairs and chemicals become part  of a molecule.  Bond formation and bond breaking are chemical reactions that  involve the movement of electrons between atoms. These chemical  reactions occur continuously in the body. We previously reviewed  how glucose breaks down into water and carbon dioxide as part of  cellular respiration. The energy released by breaking those bonds  is used to form molecules of adenosine triphosphate (ATP). Recall  how during this process electrons are extracted from glucose in a  stepwise manner and transferred to other molecules. Occasionally  electrons “escape” and, instead of completing the cellular  respiration cycle, are transferred to an oxygen molecule. Oxygen (a  molecule with two atoms) with one unpaired electron is known as  superoxide (Figure 8.2).  460  |  The Atom',\n",
       "  'sentences': ['The Atom  UNIVERSITY OF HAWAI‘I AT MĀNOA FOOD SCIENCE AND HUMAN  NUTRITION PROGRAM AND HUMAN NUTRITION PROGRAM  Cells are the basic building blocks of life, but atoms are the basic  building blocks of all matter, living and nonliving.',\n",
       "   'The structural  elements of an atom are protons (positively charged), neutrons (no  charge), and electrons (negatively charged).',\n",
       "   'Protons and neutrons  are contained in the dense nucleus of the atom; the nucleus thus has  a positive charge.',\n",
       "   'Because opposites attract, electrons are attracted  to this nucleus and move around it in the electron cloud.',\n",
       "   ' Electrons contain energy, and this energy is stored within the  charge and movement of electrons and the bonds atoms make with  one another.',\n",
       "   'However, this energy is not always stable, depending  on the number of electrons within an atom.',\n",
       "   'Atoms are more stable  when their electrons orbit in pairs.',\n",
       "   'An atom with an odd number  of electrons must have an unpaired electron.',\n",
       "   'In most cases, these  unpaired electrons are used to create chemical bonds.',\n",
       "   'A chemical  bond is the attractive force between atoms and contains potential  energy.',\n",
       "   'By bonding, electrons find pairs and chemicals become part  of a molecule.',\n",
       "   ' Bond formation and bond breaking are chemical reactions that  involve the movement of electrons between atoms.',\n",
       "   'These chemical  reactions occur continuously in the body.',\n",
       "   'We previously reviewed  how glucose breaks down into water and carbon dioxide as part of  cellular respiration.',\n",
       "   'The energy released by breaking those bonds  is used to form molecules of adenosine triphosphate (ATP).',\n",
       "   'Recall  how during this process electrons are extracted from glucose in a  stepwise manner and transferred to other molecules.',\n",
       "   'Occasionally  electrons “escape” and, instead of completing the cellular  respiration cycle, are transferred to an oxygen molecule.',\n",
       "   'Oxygen (a  molecule with two atoms) with one unpaired electron is known as  superoxide (Figure 8.2).',\n",
       "   ' 460  |  The Atom'],\n",
       "  'page_sentence_count_spacy': 19,\n",
       "  'sentence_chunks': [['The Atom  UNIVERSITY OF HAWAI‘I AT MĀNOA FOOD SCIENCE AND HUMAN  NUTRITION PROGRAM AND HUMAN NUTRITION PROGRAM  Cells are the basic building blocks of life, but atoms are the basic  building blocks of all matter, living and nonliving.',\n",
       "    'The structural  elements of an atom are protons (positively charged), neutrons (no  charge), and electrons (negatively charged).',\n",
       "    'Protons and neutrons  are contained in the dense nucleus of the atom; the nucleus thus has  a positive charge.',\n",
       "    'Because opposites attract, electrons are attracted  to this nucleus and move around it in the electron cloud.',\n",
       "    ' Electrons contain energy, and this energy is stored within the  charge and movement of electrons and the bonds atoms make with  one another.',\n",
       "    'However, this energy is not always stable, depending  on the number of electrons within an atom.',\n",
       "    'Atoms are more stable  when their electrons orbit in pairs.',\n",
       "    'An atom with an odd number  of electrons must have an unpaired electron.',\n",
       "    'In most cases, these  unpaired electrons are used to create chemical bonds.',\n",
       "    'A chemical  bond is the attractive force between atoms and contains potential  energy.'],\n",
       "   ['By bonding, electrons find pairs and chemicals become part  of a molecule.',\n",
       "    ' Bond formation and bond breaking are chemical reactions that  involve the movement of electrons between atoms.',\n",
       "    'These chemical  reactions occur continuously in the body.',\n",
       "    'We previously reviewed  how glucose breaks down into water and carbon dioxide as part of  cellular respiration.',\n",
       "    'The energy released by breaking those bonds  is used to form molecules of adenosine triphosphate (ATP).',\n",
       "    'Recall  how during this process electrons are extracted from glucose in a  stepwise manner and transferred to other molecules.',\n",
       "    'Occasionally  electrons “escape” and, instead of completing the cellular  respiration cycle, are transferred to an oxygen molecule.',\n",
       "    'Oxygen (a  molecule with two atoms) with one unpaired electron is known as  superoxide (Figure 8.2).',\n",
       "    ' 460  |  The Atom']],\n",
       "  'num_chunks': 2}]"
      ]
     },
     "execution_count": 13,
     "metadata": {},
     "output_type": "execute_result"
    }
   ],
   "source": [
    "random.sample(pages_and_texts,k=1)"
   ]
  },
  {
   "cell_type": "code",
   "execution_count": 14,
   "id": "59c151de-7f49-4dfd-8b30-500a715953f8",
   "metadata": {},
   "outputs": [
    {
     "data": {
      "text/plain": [
       "{'page_number': 1166,\n",
       " 'page_char_count': 257,\n",
       " 'page_word_count': 44,\n",
       " 'page_sentence_count_raw': 3,\n",
       " 'page_token_count': 64.25,\n",
       " 'text': '23. Vitamin D reused “The Functions of Vitamin D” by Allison  Calabrese / Attribution – Sharealike  24. Vitamin K reused “Kale Lacinato Lacinato Kale” by BlackRiv\\xa0/  Pixabay License; “Phylloquinone structure” by Mysid\\xa0/ Public  Domain  1166  |  Attributions',\n",
       " 'sentences': ['23.',\n",
       "  'Vitamin D reused “The Functions of Vitamin D” by Allison  Calabrese / Attribution – Sharealike  24.',\n",
       "  'Vitamin K reused “Kale Lacinato Lacinato Kale” by BlackRiv\\xa0/  Pixabay License; “Phylloquinone structure” by Mysid\\xa0/ Public  Domain  1166  |  Attributions'],\n",
       " 'page_sentence_count_spacy': 3,\n",
       " 'sentence_chunks': [['23.',\n",
       "   'Vitamin D reused “The Functions of Vitamin D” by Allison  Calabrese / Attribution – Sharealike  24.',\n",
       "   'Vitamin K reused “Kale Lacinato Lacinato Kale” by BlackRiv\\xa0/  Pixabay License; “Phylloquinone structure” by Mysid\\xa0/ Public  Domain  1166  |  Attributions']],\n",
       " 'num_chunks': 1}"
      ]
     },
     "execution_count": 14,
     "metadata": {},
     "output_type": "execute_result"
    }
   ],
   "source": [
    "item"
   ]
  },
  {
   "cell_type": "code",
   "execution_count": 15,
   "id": "864f53d6-a5ed-4585-a6d2-a120a9248825",
   "metadata": {},
   "outputs": [
    {
     "data": {
      "text/html": [
       "<div>\n",
       "<style scoped>\n",
       "    .dataframe tbody tr th:only-of-type {\n",
       "        vertical-align: middle;\n",
       "    }\n",
       "\n",
       "    .dataframe tbody tr th {\n",
       "        vertical-align: top;\n",
       "    }\n",
       "\n",
       "    .dataframe thead th {\n",
       "        text-align: right;\n",
       "    }\n",
       "</style>\n",
       "<table border=\"1\" class=\"dataframe\">\n",
       "  <thead>\n",
       "    <tr style=\"text-align: right;\">\n",
       "      <th></th>\n",
       "      <th>page_number</th>\n",
       "      <th>page_char_count</th>\n",
       "      <th>page_word_count</th>\n",
       "      <th>page_sentence_count_raw</th>\n",
       "      <th>page_token_count</th>\n",
       "      <th>page_sentence_count_spacy</th>\n",
       "      <th>num_chunks</th>\n",
       "    </tr>\n",
       "  </thead>\n",
       "  <tbody>\n",
       "    <tr>\n",
       "      <th>count</th>\n",
       "      <td>1208.00</td>\n",
       "      <td>1208.00</td>\n",
       "      <td>1208.00</td>\n",
       "      <td>1208.00</td>\n",
       "      <td>1208.00</td>\n",
       "      <td>1208.00</td>\n",
       "      <td>1208.00</td>\n",
       "    </tr>\n",
       "    <tr>\n",
       "      <th>mean</th>\n",
       "      <td>562.50</td>\n",
       "      <td>1148.00</td>\n",
       "      <td>198.30</td>\n",
       "      <td>9.97</td>\n",
       "      <td>287.00</td>\n",
       "      <td>10.32</td>\n",
       "      <td>1.53</td>\n",
       "    </tr>\n",
       "    <tr>\n",
       "      <th>std</th>\n",
       "      <td>348.86</td>\n",
       "      <td>560.38</td>\n",
       "      <td>95.76</td>\n",
       "      <td>6.19</td>\n",
       "      <td>140.10</td>\n",
       "      <td>6.30</td>\n",
       "      <td>0.64</td>\n",
       "    </tr>\n",
       "    <tr>\n",
       "      <th>min</th>\n",
       "      <td>-41.00</td>\n",
       "      <td>0.00</td>\n",
       "      <td>1.00</td>\n",
       "      <td>1.00</td>\n",
       "      <td>0.00</td>\n",
       "      <td>0.00</td>\n",
       "      <td>0.00</td>\n",
       "    </tr>\n",
       "    <tr>\n",
       "      <th>25%</th>\n",
       "      <td>260.75</td>\n",
       "      <td>762.00</td>\n",
       "      <td>134.00</td>\n",
       "      <td>4.00</td>\n",
       "      <td>190.50</td>\n",
       "      <td>5.00</td>\n",
       "      <td>1.00</td>\n",
       "    </tr>\n",
       "    <tr>\n",
       "      <th>50%</th>\n",
       "      <td>562.50</td>\n",
       "      <td>1231.50</td>\n",
       "      <td>214.50</td>\n",
       "      <td>10.00</td>\n",
       "      <td>307.88</td>\n",
       "      <td>10.00</td>\n",
       "      <td>1.00</td>\n",
       "    </tr>\n",
       "    <tr>\n",
       "      <th>75%</th>\n",
       "      <td>864.25</td>\n",
       "      <td>1603.50</td>\n",
       "      <td>271.00</td>\n",
       "      <td>14.00</td>\n",
       "      <td>400.88</td>\n",
       "      <td>15.00</td>\n",
       "      <td>2.00</td>\n",
       "    </tr>\n",
       "    <tr>\n",
       "      <th>max</th>\n",
       "      <td>1166.00</td>\n",
       "      <td>2308.00</td>\n",
       "      <td>429.00</td>\n",
       "      <td>32.00</td>\n",
       "      <td>577.00</td>\n",
       "      <td>28.00</td>\n",
       "      <td>3.00</td>\n",
       "    </tr>\n",
       "  </tbody>\n",
       "</table>\n",
       "</div>"
      ],
      "text/plain": [
       "       page_number  page_char_count  page_word_count  page_sentence_count_raw  \\\n",
       "count      1208.00          1208.00          1208.00                  1208.00   \n",
       "mean        562.50          1148.00           198.30                     9.97   \n",
       "std         348.86           560.38            95.76                     6.19   \n",
       "min         -41.00             0.00             1.00                     1.00   \n",
       "25%         260.75           762.00           134.00                     4.00   \n",
       "50%         562.50          1231.50           214.50                    10.00   \n",
       "75%         864.25          1603.50           271.00                    14.00   \n",
       "max        1166.00          2308.00           429.00                    32.00   \n",
       "\n",
       "       page_token_count  page_sentence_count_spacy  num_chunks  \n",
       "count           1208.00                    1208.00     1208.00  \n",
       "mean             287.00                      10.32        1.53  \n",
       "std              140.10                       6.30        0.64  \n",
       "min                0.00                       0.00        0.00  \n",
       "25%              190.50                       5.00        1.00  \n",
       "50%              307.88                      10.00        1.00  \n",
       "75%              400.88                      15.00        2.00  \n",
       "max              577.00                      28.00        3.00  "
      ]
     },
     "execution_count": 15,
     "metadata": {},
     "output_type": "execute_result"
    }
   ],
   "source": [
    "df = pd.DataFrame(pages_and_texts)\n",
    "df.describe().round(2)"
   ]
  },
  {
   "cell_type": "markdown",
   "id": "b94d68f9-b2ce-471d-b300-ef01fa50bfda",
   "metadata": {},
   "source": [
    "### Splitting each chunk into its own item\n",
    "\n",
    "we'd like to embed each chunk of sentences into its own numerical representation.\n",
    "\n",
    "That'll give  you a good level of granularity .\n",
    "\n",
    "Meaning, we can dive specefically into the text sample that we used in our model."
   ]
  },
  {
   "cell_type": "code",
   "execution_count": 16,
   "id": "01cf52a3-7001-4ecd-a13f-1ef65b611e82",
   "metadata": {},
   "outputs": [],
   "source": [
    "# import re\n",
    "\n",
    "# # Splitting each chunk into its own item \n",
    "\n",
    "# pages_and_chunks = []\n",
    "# for item in tqdm(pages_and_texts):\n",
    "#     for sentance_chunk in item[\"sentence_chunks\"]:\n",
    "#         chunk_dict={}\n",
    "#         chunk_dict[\"page_number\"]=item[\"page_number\"]\n",
    "\n",
    "#         # Join the sentence togather into paragraph like structure, aka join the list of sentences into one paragraph\n",
    "#         joined_sentence_chunk = \"\".join(sentance_chunk).replace(\"  \",\" \").strip()\n",
    "#         joined_sentence_chunk = re.sub(r'\\.([A-Z])',r'. \\1', joined_sentence_chunk) # \".A\" -> \". A\" ( will work for any capital letter)\n",
    "        \n",
    "\n",
    "#         # Get some state on our chunk\n",
    "#         chunk_dict[\"sentence_chunk\"] = joined_sentence_chunk\n",
    "\n",
    "#         chunk_dict[\"chunk_char_count\"] = len(joined_sentence_chunk)\n",
    "\n",
    "#         chunk_dict[\"chunk_word_count\"] = len([word for word in joined_sentence_chunk.split(\" \")])\n",
    "\n",
    "#         chunk_dict[\"chunk_token_count\"] = len(joined_sentence_chunk)/4 # 1 token = ~4 char\n",
    "\n",
    "#         pages_and_chunks.append(chunk_dict)\n",
    "\n",
    "# len(pages_and_chunks)\n",
    "    "
   ]
  },
  {
   "cell_type": "code",
   "execution_count": 17,
   "id": "bf3032c3-c70e-4fcd-ac55-956b959a4d28",
   "metadata": {},
   "outputs": [
    {
     "data": {
      "application/vnd.jupyter.widget-view+json": {
       "model_id": "79be3c2698e94e07800c868385f94d4b",
       "version_major": 2,
       "version_minor": 0
      },
      "text/plain": [
       "  0%|          | 0/1208 [00:00<?, ?it/s]"
      ]
     },
     "metadata": {},
     "output_type": "display_data"
    },
    {
     "data": {
      "text/plain": [
       "1843"
      ]
     },
     "execution_count": 17,
     "metadata": {},
     "output_type": "execute_result"
    }
   ],
   "source": [
    "import re\n",
    "\n",
    "# Split each chunk into its own item\n",
    "pages_and_chunks = []\n",
    "for item in tqdm(pages_and_texts): \n",
    "    for sentence_chunk in item[\"sentence_chunks\"]: \n",
    "        chunk_dict = {}\n",
    "        chunk_dict[\"page_number\"] = item[\"page_number\"]\n",
    "\n",
    "        # Join the sentences together into a paragraph-like structure, aka join the list of sentences into one paragraph\n",
    "        joined_sentence_chunk = \"\".join(sentence_chunk).replace(\"  \", \" \").strip()\n",
    "        joined_sentence_chunk = re.sub(r'\\.([A-Z])', r'. \\1', joined_sentence_chunk) # \".A\" => \". A\" (will work for any captial letter)\n",
    "\n",
    "        chunk_dict[\"sentence_chunk\"] = joined_sentence_chunk\n",
    "\n",
    "        # Get some stats on our chunks\n",
    "        chunk_dict[\"chunk_char_count\"] = len(joined_sentence_chunk)\n",
    "        chunk_dict[\"chunk_word_count\"] = len([word for word in joined_sentence_chunk.split(\" \")])\n",
    "        chunk_dict[\"chunk_token_count\"] = len(joined_sentence_chunk) / 4 # 1 token = ~4 chars\n",
    "\n",
    "        pages_and_chunks.append(chunk_dict) \n",
    "\n",
    "len(pages_and_chunks)\n"
   ]
  },
  {
   "cell_type": "code",
   "execution_count": 18,
   "id": "2a4b8564-3f33-4a88-a85d-fdfcdeba9398",
   "metadata": {},
   "outputs": [
    {
     "data": {
      "text/plain": [
       "[{'page_number': 506,\n",
       "  'sentence_chunk': 'http://www.health.gov/paguidelines/guidelines/ chapter2.aspx. Published 2008. Accessed September 22, 2017. 8.\\xa0Source: 2008 Physical Activity Guidelines for Americans. US Department of Health and Human Services. http://www.health.gov/paguidelines/guidelines/ 506 | Dietary, Behavioral, and Physical Activity Recommendations for Weight Management',\n",
       "  'chunk_char_count': 344,\n",
       "  'chunk_word_count': 34,\n",
       "  'chunk_token_count': 86.0}]"
      ]
     },
     "execution_count": 18,
     "metadata": {},
     "output_type": "execute_result"
    }
   ],
   "source": [
    "random.sample(pages_and_chunks,k=1)"
   ]
  },
  {
   "cell_type": "code",
   "execution_count": 19,
   "id": "0f894b10-18b0-4e96-b98d-4b45ab4e304c",
   "metadata": {},
   "outputs": [
    {
     "data": {
      "text/html": [
       "<div>\n",
       "<style scoped>\n",
       "    .dataframe tbody tr th:only-of-type {\n",
       "        vertical-align: middle;\n",
       "    }\n",
       "\n",
       "    .dataframe tbody tr th {\n",
       "        vertical-align: top;\n",
       "    }\n",
       "\n",
       "    .dataframe thead th {\n",
       "        text-align: right;\n",
       "    }\n",
       "</style>\n",
       "<table border=\"1\" class=\"dataframe\">\n",
       "  <thead>\n",
       "    <tr style=\"text-align: right;\">\n",
       "      <th></th>\n",
       "      <th>page_number</th>\n",
       "      <th>chunk_char_count</th>\n",
       "      <th>chunk_word_count</th>\n",
       "      <th>chunk_token_count</th>\n",
       "    </tr>\n",
       "  </thead>\n",
       "  <tbody>\n",
       "    <tr>\n",
       "      <th>count</th>\n",
       "      <td>1843.00</td>\n",
       "      <td>1843.00</td>\n",
       "      <td>1843.00</td>\n",
       "      <td>1843.00</td>\n",
       "    </tr>\n",
       "    <tr>\n",
       "      <th>mean</th>\n",
       "      <td>583.38</td>\n",
       "      <td>734.44</td>\n",
       "      <td>112.33</td>\n",
       "      <td>183.61</td>\n",
       "    </tr>\n",
       "    <tr>\n",
       "      <th>std</th>\n",
       "      <td>347.79</td>\n",
       "      <td>447.54</td>\n",
       "      <td>71.22</td>\n",
       "      <td>111.89</td>\n",
       "    </tr>\n",
       "    <tr>\n",
       "      <th>min</th>\n",
       "      <td>-41.00</td>\n",
       "      <td>12.00</td>\n",
       "      <td>3.00</td>\n",
       "      <td>3.00</td>\n",
       "    </tr>\n",
       "    <tr>\n",
       "      <th>25%</th>\n",
       "      <td>280.50</td>\n",
       "      <td>315.00</td>\n",
       "      <td>44.00</td>\n",
       "      <td>78.75</td>\n",
       "    </tr>\n",
       "    <tr>\n",
       "      <th>50%</th>\n",
       "      <td>586.00</td>\n",
       "      <td>746.00</td>\n",
       "      <td>114.00</td>\n",
       "      <td>186.50</td>\n",
       "    </tr>\n",
       "    <tr>\n",
       "      <th>75%</th>\n",
       "      <td>890.00</td>\n",
       "      <td>1118.50</td>\n",
       "      <td>173.00</td>\n",
       "      <td>279.62</td>\n",
       "    </tr>\n",
       "    <tr>\n",
       "      <th>max</th>\n",
       "      <td>1166.00</td>\n",
       "      <td>1831.00</td>\n",
       "      <td>297.00</td>\n",
       "      <td>457.75</td>\n",
       "    </tr>\n",
       "  </tbody>\n",
       "</table>\n",
       "</div>"
      ],
      "text/plain": [
       "       page_number  chunk_char_count  chunk_word_count  chunk_token_count\n",
       "count      1843.00           1843.00           1843.00            1843.00\n",
       "mean        583.38            734.44            112.33             183.61\n",
       "std         347.79            447.54             71.22             111.89\n",
       "min         -41.00             12.00              3.00               3.00\n",
       "25%         280.50            315.00             44.00              78.75\n",
       "50%         586.00            746.00            114.00             186.50\n",
       "75%         890.00           1118.50            173.00             279.62\n",
       "max        1166.00           1831.00            297.00             457.75"
      ]
     },
     "execution_count": 19,
     "metadata": {},
     "output_type": "execute_result"
    }
   ],
   "source": [
    "df = pd.DataFrame(pages_and_chunks)\n",
    "df.describe().round(2)"
   ]
  },
  {
   "cell_type": "markdown",
   "id": "990d618b-a59e-4160-91af-d71a723f828a",
   "metadata": {},
   "source": [
    "### Filter chunks of text for short chunks\n",
    "\n",
    "These chunk may not contain much useful information\n",
    "\n"
   ]
  },
  {
   "cell_type": "code",
   "execution_count": 20,
   "id": "9f744eb1-d506-4028-8ea6-2a6d48cd6dbc",
   "metadata": {},
   "outputs": [
    {
     "name": "stdout",
     "output_type": "stream",
     "text": [
      "Chunk token count: 3.75 | Text: 806 | Pregnancy\n",
      "Chunk token count: 3.25 | Text: 622 | Calcium\n",
      "Chunk token count: 5.25 | Text: 754 | MyPlate Planner\n",
      "Chunk token count: 4.25 | Text: Introduction | 61\n",
      "Chunk token count: 3.25 | Text: 814 | Infancy\n"
     ]
    }
   ],
   "source": [
    "# show random chunks with under 30 token length\n",
    "min_token_length = 30\n",
    "for row in df[df[\"chunk_char_count\"]<= min_token_length].sample(5).iterrows():\n",
    "    print(f'Chunk token count: {row[1][\"chunk_token_count\"]} | Text: {row[1][\"sentence_chunk\"]}')"
   ]
  },
  {
   "cell_type": "code",
   "execution_count": 21,
   "id": "c18c881b-c853-473b-a782-b385236c9c4c",
   "metadata": {},
   "outputs": [
    {
     "data": {
      "text/plain": [
       "[{'page_number': -39,\n",
       "  'sentence_chunk': 'Human Nutrition: 2020 Edition UNIVERSITY OF HAWAI‘I AT MĀNOA FOOD SCIENCE AND HUMAN NUTRITION PROGRAM ALAN TITCHENAL, SKYLAR HARA, NOEMI ARCEO CAACBAY, WILLIAM MEINKE-LAU, YA-YUN YANG, MARIE KAINOA FIALKOWSKI REVILLA, JENNIFER DRAPER, GEMADY LANGFELDER, CHERYL GIBBY, CHYNA NICOLE CHUN, AND ALLISON CALABRESE',\n",
       "  'chunk_char_count': 308,\n",
       "  'chunk_word_count': 42,\n",
       "  'chunk_token_count': 77.0},\n",
       " {'page_number': -38,\n",
       "  'sentence_chunk': 'Human Nutrition: 2020 Edition by University of Hawai‘i at Mānoa Food Science and Human Nutrition Program is licensed under a Creative Commons Attribution 4.0 International License, except where otherwise noted.',\n",
       "  'chunk_char_count': 210,\n",
       "  'chunk_word_count': 30,\n",
       "  'chunk_token_count': 52.5}]"
      ]
     },
     "execution_count": 21,
     "metadata": {},
     "output_type": "execute_result"
    }
   ],
   "source": [
    "# Filter our DataFrame for rows with under 30 tokens\n",
    "pages_and_chunks_over_min_token_len = df[df[\"chunk_token_count\"] > min_token_length].to_dict(orient=\"records\")\n",
    "pages_and_chunks_over_min_token_len[:2]"
   ]
  },
  {
   "cell_type": "markdown",
   "id": "f072af3c-008a-47b2-a9f9-bc4d27c51ddd",
   "metadata": {},
   "source": [
    "### Embedding our texts chunks\n",
    "\n",
    "Embeddings are a broud but powerful concept,\n",
    "\n",
    "while humen understan text, machines understand numbers.\n",
    "\n",
    "What we'do like to do:\n",
    "- Turn our text chunks into numbers, specefically embeddings.\n",
    "\n",
    "A useful numerical representation\n",
    "\n",
    "The best part about embeddings is that are a *learned* representation.\n",
    "\n",
    "\n",
    "```\n",
    "\n",
    "{\"the\":0,\n",
    "\"a\",1,\n",
    "...\n",
    "```\n",
    "For great resource on learning embeddings, see here: https://vickiboykis.com/what_are_embeddings/\n",
    "\n",
    "\n"
   ]
  },
  {
   "cell_type": "markdown",
   "id": "d2689a97-7dae-4c8d-93d7-90dd115687b1",
   "metadata": {},
   "source": [
    "#### pip install -U sentence-transformers\n",
    "#### !pip install tf-keras\n",
    "WARNING:tensorflow:From E:\\ML_IMPLEMENTATIO\\ml-env\\Lib\\site-packages\\tf_keras\\src\\losses.py:2976: The name tf.losses.sparse_softmax_cross_entropy is deprecated. Please use tf.compat.v1.losses.sparse_softmax_cross_entropy instead.\n"
   ]
  },
  {
   "cell_type": "code",
   "execution_count": 22,
   "id": "9989093b-2f30-41fc-938d-83e694585619",
   "metadata": {},
   "outputs": [
    {
     "name": "stdout",
     "output_type": "stream",
     "text": [
      "WARNING:tensorflow:From E:\\ML_IMPLEMENTATIO\\ml-env\\Lib\\site-packages\\tf_keras\\src\\losses.py:2976: The name tf.losses.sparse_softmax_cross_entropy is deprecated. Please use tf.compat.v1.losses.sparse_softmax_cross_entropy instead.\n",
      "\n"
     ]
    }
   ],
   "source": [
    "from sentence_transformers import SentenceTransformer\n",
    "embedding_model = SentenceTransformer(model_name_or_path=\"all-mpnet-base-v2\")"
   ]
  },
  {
   "cell_type": "code",
   "execution_count": 23,
   "id": "6cbb09c9-be52-4b95-8832-b6cff3edf2be",
   "metadata": {},
   "outputs": [],
   "source": [
    "# Create a list of sentences\n",
    "\n",
    "sentences = [\"The Sentence Transfomer library provides an easy way to create embeddings\",\n",
    "             \"Sentences can be embedded one by one or in a list so multiple at a time\",\n",
    "             \"I like horses!\"]\n",
    "# Sentences are encoded / embedded by calling model.encode()\n",
    "\n",
    "embeddings = embedding_model.encode(sentences)\n",
    "embeddings_dict = dict(zip(sentences,embeddings))\n",
    "\n",
    "\n",
    "# See the embeddings\n",
    "# for sentence, embedding in embeddings_dict.items():\n",
    "#     print(f\"Sentence: {sentences}\")\n",
    "#     print(f\"Embedding: {embedding}\")\n",
    "#     print(\"\")"
   ]
  },
  {
   "cell_type": "code",
   "execution_count": 24,
   "id": "5c4d4e90-5e49-4345-ba32-8b1438cbd574",
   "metadata": {},
   "outputs": [
    {
     "data": {
      "text/plain": [
       "(768,)"
      ]
     },
     "execution_count": 24,
     "metadata": {},
     "output_type": "execute_result"
    }
   ],
   "source": [
    "embeddings[0].shape"
   ]
  },
  {
   "cell_type": "code",
   "execution_count": 25,
   "id": "54ff1db8-efc5-4811-9cb0-273a023fd77f",
   "metadata": {},
   "outputs": [
    {
     "data": {
      "text/plain": [
       "2"
      ]
     },
     "execution_count": 25,
     "metadata": {},
     "output_type": "execute_result"
    }
   ],
   "source": [
    "embeddings.ndim"
   ]
  },
  {
   "cell_type": "code",
   "execution_count": 26,
   "id": "0a729745-d6b1-4ca4-8377-7501de304c8e",
   "metadata": {},
   "outputs": [
    {
     "data": {
      "text/plain": [
       "768"
      ]
     },
     "execution_count": 26,
     "metadata": {},
     "output_type": "execute_result"
    }
   ],
   "source": [
    "embedding = embedding_model.encode(\"My Favourite animal is the cow!\")\n",
    "# embedding\n",
    "len(embedding)"
   ]
  },
  {
   "cell_type": "code",
   "execution_count": 27,
   "id": "09b4cf2b-8401-490a-9c1c-240e7cdd0caa",
   "metadata": {},
   "outputs": [],
   "source": [
    "# %%time\n",
    "\n",
    "# embedding_model.to(\"cpu\")\n",
    "\n",
    "# # Embed each chunk one by one\n",
    "\n",
    "# for item in tqdm(pages_and_chunks_over_min_token_len):\n",
    "#     item[\"embedding\"] = embedding_model.encode(item[\"sentence_chunk\"])\n",
    "\n",
    "# 100%\n",
    "#  1680/1680 [05:28<00:00,  4.31it/s]\n",
    "# CPU times: total: 21min 15s\n",
    "# Wall time: 5min 28s"
   ]
  },
  {
   "cell_type": "code",
   "execution_count": 28,
   "id": "35f41080-9a0f-4e6f-8856-7617c506e0f2",
   "metadata": {},
   "outputs": [
    {
     "data": {
      "application/vnd.jupyter.widget-view+json": {
       "model_id": "882be8321ab94aadb58a33c8725b806c",
       "version_major": 2,
       "version_minor": 0
      },
      "text/plain": [
       "  0%|          | 0/1680 [00:00<?, ?it/s]"
      ]
     },
     "metadata": {},
     "output_type": "display_data"
    },
    {
     "name": "stdout",
     "output_type": "stream",
     "text": [
      "CPU times: total: 4min 4s\n",
      "Wall time: 1min 39s\n"
     ]
    }
   ],
   "source": [
    "%%time\n",
    "\n",
    "embedding_model.to(\"cuda\")\n",
    "\n",
    "for item in tqdm(pages_and_chunks_over_min_token_len):\n",
    "    item[\"embedding\"] = embedding_model.encode(item[\"sentence_chunk\"])"
   ]
  },
  {
   "cell_type": "code",
   "execution_count": 29,
   "id": "979abedc-355a-40e4-9a94-a7fee86aa10f",
   "metadata": {},
   "outputs": [
    {
     "name": "stdout",
     "output_type": "stream",
     "text": [
      "CPU times: total: 0 ns\n",
      "Wall time: 0 ns\n"
     ]
    },
    {
     "data": {
      "text/plain": [
       "'often. • Calm your “sweet tooth” by eating fruits, such as berries or an apple. • Replace sugary soft drinks with seltzer water, tea, or a small amount of 100 percent fruit juice added to water or soda water. The Food Industry: Functional Attributes of Carbohydrates and the Use of Sugar Substitutes In the food industry, both fast-releasing and slow-releasing carbohydrates are utilized to give foods a wide spectrum of functional attributes, including increased sweetness, viscosity, bulk, coating ability, solubility, consistency, texture, body, and browning capacity. The differences in chemical structure between the different carbohydrates confer their varied functional uses in foods. Starches, gums, and pectins are used as thickening agents in making jam, cakes, cookies, noodles, canned products, imitation cheeses, and a variety of other foods. Molecular gastronomists use slow- releasing carbohydrates, such as alginate, to give shape and texture to their fascinating food creations. Adding fiber to foods increases bulk. Simple sugars are used not only for adding sweetness, but also to add texture, consistency, and browning. In ice cream, the combination of sucrose and corn syrup imparts sweetness as well as a glossy appearance and smooth texture.'"
      ]
     },
     "execution_count": 29,
     "metadata": {},
     "output_type": "execute_result"
    }
   ],
   "source": [
    "%%time \n",
    "\n",
    "text_chunks = [item[\"sentence_chunk\"] for item in pages_and_chunks_over_min_token_len]\n",
    "text_chunks[419]"
   ]
  },
  {
   "cell_type": "code",
   "execution_count": 30,
   "id": "930b4f57-d5e5-4b05-bedc-b2dcda2a2a81",
   "metadata": {},
   "outputs": [
    {
     "data": {
      "text/plain": [
       "1680"
      ]
     },
     "execution_count": 30,
     "metadata": {},
     "output_type": "execute_result"
    }
   ],
   "source": [
    "len(text_chunks)"
   ]
  },
  {
   "cell_type": "code",
   "execution_count": 31,
   "id": "874dbe06-7bad-426d-8f86-e27aa46f8abd",
   "metadata": {},
   "outputs": [
    {
     "name": "stdout",
     "output_type": "stream",
     "text": [
      "CPU times: total: 1min 19s\n",
      "Wall time: 55.2 s\n"
     ]
    },
    {
     "data": {
      "text/plain": [
       "tensor([[ 0.0674,  0.0902, -0.0051,  ..., -0.0221, -0.0232,  0.0126],\n",
       "        [ 0.0552,  0.0592, -0.0166,  ..., -0.0120, -0.0103,  0.0227],\n",
       "        [ 0.0280,  0.0340, -0.0206,  ..., -0.0054,  0.0213,  0.0313],\n",
       "        ...,\n",
       "        [ 0.0771,  0.0098, -0.0122,  ..., -0.0409, -0.0752, -0.0241],\n",
       "        [ 0.1030, -0.0165,  0.0083,  ..., -0.0574, -0.0283, -0.0295],\n",
       "        [ 0.0864, -0.0125, -0.0113,  ..., -0.0522, -0.0337, -0.0299]],\n",
       "       device='cuda:0')"
      ]
     },
     "execution_count": 31,
     "metadata": {},
     "output_type": "execute_result"
    }
   ],
   "source": [
    "%%time\n",
    "\n",
    "# Embed all chunks into batches\n",
    "\n",
    "text_chunk_embeddings = embedding_model.encode(text_chunks,\n",
    "                                               batch_size=32, # you can experiment to find which batch size leads to best result\n",
    "                                               convert_to_tensor=True)\n",
    "text_chunk_embeddings"
   ]
  },
  {
   "cell_type": "code",
   "execution_count": 32,
   "id": "6c3e214e-c237-4976-bd84-6aaf229bf0e3",
   "metadata": {},
   "outputs": [],
   "source": [
    "# pages_and_chunks_over_min_token_len[419]"
   ]
  },
  {
   "cell_type": "code",
   "execution_count": 33,
   "id": "77980fb8-06f4-4bd7-ac41-4021a1fe47a1",
   "metadata": {},
   "outputs": [],
   "source": [
    "### Save embeddings to file \n",
    "text_chunks_and_embeddings_df = pd.DataFrame(pages_and_chunks_over_min_token_len)\n",
    "embeddings_df_save_path =  \"text_chunks_and_embeddings_df.csv\"\n",
    "text_chunks_and_embeddings_df.to_csv(embeddings_df_save_path,index=False)"
   ]
  },
  {
   "cell_type": "code",
   "execution_count": 34,
   "id": "065c3ceb-77e2-4c9b-a2c3-5e45c611c7db",
   "metadata": {},
   "outputs": [],
   "source": [
    "# Import save file and view\n",
    "text_chunk_and_embedding_df_load = pd.read_csv(\"text_chunks_and_embeddings_df.csv\")"
   ]
  },
  {
   "cell_type": "code",
   "execution_count": 35,
   "id": "562119ed-2ccc-4137-bb68-16215b068c3f",
   "metadata": {},
   "outputs": [
    {
     "data": {
      "text/html": [
       "<div>\n",
       "<style scoped>\n",
       "    .dataframe tbody tr th:only-of-type {\n",
       "        vertical-align: middle;\n",
       "    }\n",
       "\n",
       "    .dataframe tbody tr th {\n",
       "        vertical-align: top;\n",
       "    }\n",
       "\n",
       "    .dataframe thead th {\n",
       "        text-align: right;\n",
       "    }\n",
       "</style>\n",
       "<table border=\"1\" class=\"dataframe\">\n",
       "  <thead>\n",
       "    <tr style=\"text-align: right;\">\n",
       "      <th></th>\n",
       "      <th>page_number</th>\n",
       "      <th>chunk_char_count</th>\n",
       "      <th>chunk_word_count</th>\n",
       "      <th>chunk_token_count</th>\n",
       "    </tr>\n",
       "  </thead>\n",
       "  <tbody>\n",
       "    <tr>\n",
       "      <th>count</th>\n",
       "      <td>1680.00</td>\n",
       "      <td>1680.00</td>\n",
       "      <td>1680.00</td>\n",
       "      <td>1680.00</td>\n",
       "    </tr>\n",
       "    <tr>\n",
       "      <th>mean</th>\n",
       "      <td>580.64</td>\n",
       "      <td>798.98</td>\n",
       "      <td>122.28</td>\n",
       "      <td>199.74</td>\n",
       "    </tr>\n",
       "    <tr>\n",
       "      <th>std</th>\n",
       "      <td>349.77</td>\n",
       "      <td>415.36</td>\n",
       "      <td>66.65</td>\n",
       "      <td>103.84</td>\n",
       "    </tr>\n",
       "    <tr>\n",
       "      <th>min</th>\n",
       "      <td>-39.00</td>\n",
       "      <td>121.00</td>\n",
       "      <td>9.00</td>\n",
       "      <td>30.25</td>\n",
       "    </tr>\n",
       "    <tr>\n",
       "      <th>25%</th>\n",
       "      <td>277.00</td>\n",
       "      <td>420.75</td>\n",
       "      <td>62.00</td>\n",
       "      <td>105.19</td>\n",
       "    </tr>\n",
       "    <tr>\n",
       "      <th>50%</th>\n",
       "      <td>579.50</td>\n",
       "      <td>817.50</td>\n",
       "      <td>125.00</td>\n",
       "      <td>204.38</td>\n",
       "    </tr>\n",
       "    <tr>\n",
       "      <th>75%</th>\n",
       "      <td>889.25</td>\n",
       "      <td>1143.25</td>\n",
       "      <td>177.00</td>\n",
       "      <td>285.81</td>\n",
       "    </tr>\n",
       "    <tr>\n",
       "      <th>max</th>\n",
       "      <td>1166.00</td>\n",
       "      <td>1831.00</td>\n",
       "      <td>297.00</td>\n",
       "      <td>457.75</td>\n",
       "    </tr>\n",
       "  </tbody>\n",
       "</table>\n",
       "</div>"
      ],
      "text/plain": [
       "       page_number  chunk_char_count  chunk_word_count  chunk_token_count\n",
       "count      1680.00           1680.00           1680.00            1680.00\n",
       "mean        580.64            798.98            122.28             199.74\n",
       "std         349.77            415.36             66.65             103.84\n",
       "min         -39.00            121.00              9.00              30.25\n",
       "25%         277.00            420.75             62.00             105.19\n",
       "50%         579.50            817.50            125.00             204.38\n",
       "75%         889.25           1143.25            177.00             285.81\n",
       "max        1166.00           1831.00            297.00             457.75"
      ]
     },
     "execution_count": 35,
     "metadata": {},
     "output_type": "execute_result"
    }
   ],
   "source": [
    "text_chunk_and_embedding_df_load.describe().round(2)"
   ]
  },
  {
   "cell_type": "code",
   "execution_count": 36,
   "id": "a41f88c4-a592-4ab2-b94c-3ade7c202458",
   "metadata": {},
   "outputs": [
    {
     "data": {
      "text/html": [
       "<div>\n",
       "<style scoped>\n",
       "    .dataframe tbody tr th:only-of-type {\n",
       "        vertical-align: middle;\n",
       "    }\n",
       "\n",
       "    .dataframe tbody tr th {\n",
       "        vertical-align: top;\n",
       "    }\n",
       "\n",
       "    .dataframe thead th {\n",
       "        text-align: right;\n",
       "    }\n",
       "</style>\n",
       "<table border=\"1\" class=\"dataframe\">\n",
       "  <thead>\n",
       "    <tr style=\"text-align: right;\">\n",
       "      <th></th>\n",
       "      <th>page_number</th>\n",
       "      <th>sentence_chunk</th>\n",
       "      <th>chunk_char_count</th>\n",
       "      <th>chunk_word_count</th>\n",
       "      <th>chunk_token_count</th>\n",
       "      <th>embedding</th>\n",
       "    </tr>\n",
       "  </thead>\n",
       "  <tbody>\n",
       "    <tr>\n",
       "      <th>0</th>\n",
       "      <td>-39</td>\n",
       "      <td>Human Nutrition: 2020 Edition UNIVERSITY OF HA...</td>\n",
       "      <td>308</td>\n",
       "      <td>42</td>\n",
       "      <td>77.00</td>\n",
       "      <td>[ 6.74242601e-02  9.02281329e-02 -5.09549817e-...</td>\n",
       "    </tr>\n",
       "    <tr>\n",
       "      <th>1</th>\n",
       "      <td>-38</td>\n",
       "      <td>Human Nutrition: 2020 Edition by University of...</td>\n",
       "      <td>210</td>\n",
       "      <td>30</td>\n",
       "      <td>52.50</td>\n",
       "      <td>[ 5.52156195e-02  5.92139363e-02 -1.66167337e-...</td>\n",
       "    </tr>\n",
       "    <tr>\n",
       "      <th>2</th>\n",
       "      <td>-37</td>\n",
       "      <td>Contents Preface University of Hawai‘i at Māno...</td>\n",
       "      <td>766</td>\n",
       "      <td>114</td>\n",
       "      <td>191.50</td>\n",
       "      <td>[ 2.79801637e-02  3.39813977e-02 -2.06426624e-...</td>\n",
       "    </tr>\n",
       "    <tr>\n",
       "      <th>3</th>\n",
       "      <td>-36</td>\n",
       "      <td>Lifestyles and Nutrition University of Hawai‘i...</td>\n",
       "      <td>941</td>\n",
       "      <td>142</td>\n",
       "      <td>235.25</td>\n",
       "      <td>[ 6.82566836e-02  3.81274931e-02 -8.46855342e-...</td>\n",
       "    </tr>\n",
       "    <tr>\n",
       "      <th>4</th>\n",
       "      <td>-35</td>\n",
       "      <td>The Cardiovascular System University of Hawai‘...</td>\n",
       "      <td>998</td>\n",
       "      <td>152</td>\n",
       "      <td>249.50</td>\n",
       "      <td>[ 3.30264419e-02 -8.49762000e-03  9.57159325e-...</td>\n",
       "    </tr>\n",
       "  </tbody>\n",
       "</table>\n",
       "</div>"
      ],
      "text/plain": [
       "   page_number                                     sentence_chunk  \\\n",
       "0          -39  Human Nutrition: 2020 Edition UNIVERSITY OF HA...   \n",
       "1          -38  Human Nutrition: 2020 Edition by University of...   \n",
       "2          -37  Contents Preface University of Hawai‘i at Māno...   \n",
       "3          -36  Lifestyles and Nutrition University of Hawai‘i...   \n",
       "4          -35  The Cardiovascular System University of Hawai‘...   \n",
       "\n",
       "   chunk_char_count  chunk_word_count  chunk_token_count  \\\n",
       "0               308                42              77.00   \n",
       "1               210                30              52.50   \n",
       "2               766               114             191.50   \n",
       "3               941               142             235.25   \n",
       "4               998               152             249.50   \n",
       "\n",
       "                                           embedding  \n",
       "0  [ 6.74242601e-02  9.02281329e-02 -5.09549817e-...  \n",
       "1  [ 5.52156195e-02  5.92139363e-02 -1.66167337e-...  \n",
       "2  [ 2.79801637e-02  3.39813977e-02 -2.06426624e-...  \n",
       "3  [ 6.82566836e-02  3.81274931e-02 -8.46855342e-...  \n",
       "4  [ 3.30264419e-02 -8.49762000e-03  9.57159325e-...  "
      ]
     },
     "execution_count": 36,
     "metadata": {},
     "output_type": "execute_result"
    }
   ],
   "source": [
    "text_chunk_and_embedding_df_load.head()"
   ]
  },
  {
   "cell_type": "markdown",
   "id": "934a0afb-e646-4cf4-98ce-a00099a84f71",
   "metadata": {},
   "source": [
    "## RAG - Search and Answer\n",
    "\n",
    "RAG goal: Retrive relevant passages based on query and use those passages to augment an input to an LLM so it can generate an output based on relevant passages\n"
   ]
  },
  {
   "cell_type": "markdown",
   "id": "adc26623-d4bb-4cb5-8cb1-3bac9185976e",
   "metadata": {},
   "source": [
    "### Similarity Search\n",
    "\n",
    "Embeddings can be used on almost any type of data\n",
    "\n",
    "For example, you can turn images into embeddings, sound into embeddings, text into embeddings etc...\n",
    "\n",
    "Comparing embeddings is known as similarity search, vector search, semantic search.\n",
    "\n",
    "In our case, we want to query nutrition textbook passages based on semantic or *vibe*,\n",
    "\n",
    "So if I search for \"macronutrients functions\" I should get relavent passage to that text but may not contain exactly the words \"macronutrient functions.\n",
    "\n",
    "Whereas with keyword search, IF i search \"apple\" I get passage with specefically \"apple\"."
   ]
  },
  {
   "cell_type": "code",
   "execution_count": 37,
   "id": "f122f3e2-36bd-487e-a73b-5bbf53c18100",
   "metadata": {},
   "outputs": [
    {
     "data": {
      "text/html": [
       "<div>\n",
       "<style scoped>\n",
       "    .dataframe tbody tr th:only-of-type {\n",
       "        vertical-align: middle;\n",
       "    }\n",
       "\n",
       "    .dataframe tbody tr th {\n",
       "        vertical-align: top;\n",
       "    }\n",
       "\n",
       "    .dataframe thead th {\n",
       "        text-align: right;\n",
       "    }\n",
       "</style>\n",
       "<table border=\"1\" class=\"dataframe\">\n",
       "  <thead>\n",
       "    <tr style=\"text-align: right;\">\n",
       "      <th></th>\n",
       "      <th>page_number</th>\n",
       "      <th>sentence_chunk</th>\n",
       "      <th>chunk_char_count</th>\n",
       "      <th>chunk_word_count</th>\n",
       "      <th>chunk_token_count</th>\n",
       "      <th>embedding</th>\n",
       "    </tr>\n",
       "  </thead>\n",
       "  <tbody>\n",
       "    <tr>\n",
       "      <th>0</th>\n",
       "      <td>-39</td>\n",
       "      <td>Human Nutrition: 2020 Edition UNIVERSITY OF HA...</td>\n",
       "      <td>308</td>\n",
       "      <td>42</td>\n",
       "      <td>77.00</td>\n",
       "      <td>[0.0674242601, 0.0902281329, -0.00509549817, -...</td>\n",
       "    </tr>\n",
       "    <tr>\n",
       "      <th>1</th>\n",
       "      <td>-38</td>\n",
       "      <td>Human Nutrition: 2020 Edition by University of...</td>\n",
       "      <td>210</td>\n",
       "      <td>30</td>\n",
       "      <td>52.50</td>\n",
       "      <td>[0.0552156195, 0.0592139363, -0.0166167337, -0...</td>\n",
       "    </tr>\n",
       "    <tr>\n",
       "      <th>2</th>\n",
       "      <td>-37</td>\n",
       "      <td>Contents Preface University of Hawai‘i at Māno...</td>\n",
       "      <td>766</td>\n",
       "      <td>114</td>\n",
       "      <td>191.50</td>\n",
       "      <td>[0.0279801637, 0.0339813977, -0.0206426624, 0....</td>\n",
       "    </tr>\n",
       "    <tr>\n",
       "      <th>3</th>\n",
       "      <td>-36</td>\n",
       "      <td>Lifestyles and Nutrition University of Hawai‘i...</td>\n",
       "      <td>941</td>\n",
       "      <td>142</td>\n",
       "      <td>235.25</td>\n",
       "      <td>[0.0682566836, 0.0381274931, -0.00846855342, -...</td>\n",
       "    </tr>\n",
       "    <tr>\n",
       "      <th>4</th>\n",
       "      <td>-35</td>\n",
       "      <td>The Cardiovascular System University of Hawai‘...</td>\n",
       "      <td>998</td>\n",
       "      <td>152</td>\n",
       "      <td>249.50</td>\n",
       "      <td>[0.0330264419, -0.00849762, 0.00957159325, -0....</td>\n",
       "    </tr>\n",
       "    <tr>\n",
       "      <th>...</th>\n",
       "      <td>...</td>\n",
       "      <td>...</td>\n",
       "      <td>...</td>\n",
       "      <td>...</td>\n",
       "      <td>...</td>\n",
       "      <td>...</td>\n",
       "    </tr>\n",
       "    <tr>\n",
       "      <th>1675</th>\n",
       "      <td>1164</td>\n",
       "      <td>Flashcard Images Note: Most images in the flas...</td>\n",
       "      <td>1305</td>\n",
       "      <td>176</td>\n",
       "      <td>326.25</td>\n",
       "      <td>[0.0185622554, -0.0164278168, -0.0127045466, -...</td>\n",
       "    </tr>\n",
       "    <tr>\n",
       "      <th>1676</th>\n",
       "      <td>1164</td>\n",
       "      <td>Hazard Analysis Critical Control Points reused...</td>\n",
       "      <td>375</td>\n",
       "      <td>51</td>\n",
       "      <td>93.75</td>\n",
       "      <td>[0.0334720723, -0.0570440441, 0.0151489424, -0...</td>\n",
       "    </tr>\n",
       "    <tr>\n",
       "      <th>1677</th>\n",
       "      <td>1165</td>\n",
       "      <td>ShareAlike 11. Organs reused “Pancreas Organ A...</td>\n",
       "      <td>1286</td>\n",
       "      <td>173</td>\n",
       "      <td>321.50</td>\n",
       "      <td>[0.0770515278, 0.00978554226, -0.0121817542, 0...</td>\n",
       "    </tr>\n",
       "    <tr>\n",
       "      <th>1678</th>\n",
       "      <td>1165</td>\n",
       "      <td>Sucrose reused “Figure 03 02 05” by OpenStax B...</td>\n",
       "      <td>410</td>\n",
       "      <td>59</td>\n",
       "      <td>102.50</td>\n",
       "      <td>[0.103045151, -0.0164702311, 0.00826845877, 0....</td>\n",
       "    </tr>\n",
       "    <tr>\n",
       "      <th>1679</th>\n",
       "      <td>1166</td>\n",
       "      <td>23. Vitamin D reused “The Functions of Vitamin...</td>\n",
       "      <td>250</td>\n",
       "      <td>37</td>\n",
       "      <td>62.50</td>\n",
       "      <td>[0.086377345, -0.0125358514, -0.0112746833, 0....</td>\n",
       "    </tr>\n",
       "  </tbody>\n",
       "</table>\n",
       "<p>1680 rows × 6 columns</p>\n",
       "</div>"
      ],
      "text/plain": [
       "      page_number                                     sentence_chunk  \\\n",
       "0             -39  Human Nutrition: 2020 Edition UNIVERSITY OF HA...   \n",
       "1             -38  Human Nutrition: 2020 Edition by University of...   \n",
       "2             -37  Contents Preface University of Hawai‘i at Māno...   \n",
       "3             -36  Lifestyles and Nutrition University of Hawai‘i...   \n",
       "4             -35  The Cardiovascular System University of Hawai‘...   \n",
       "...           ...                                                ...   \n",
       "1675         1164  Flashcard Images Note: Most images in the flas...   \n",
       "1676         1164  Hazard Analysis Critical Control Points reused...   \n",
       "1677         1165  ShareAlike 11. Organs reused “Pancreas Organ A...   \n",
       "1678         1165  Sucrose reused “Figure 03 02 05” by OpenStax B...   \n",
       "1679         1166  23. Vitamin D reused “The Functions of Vitamin...   \n",
       "\n",
       "      chunk_char_count  chunk_word_count  chunk_token_count  \\\n",
       "0                  308                42              77.00   \n",
       "1                  210                30              52.50   \n",
       "2                  766               114             191.50   \n",
       "3                  941               142             235.25   \n",
       "4                  998               152             249.50   \n",
       "...                ...               ...                ...   \n",
       "1675              1305               176             326.25   \n",
       "1676               375                51              93.75   \n",
       "1677              1286               173             321.50   \n",
       "1678               410                59             102.50   \n",
       "1679               250                37              62.50   \n",
       "\n",
       "                                              embedding  \n",
       "0     [0.0674242601, 0.0902281329, -0.00509549817, -...  \n",
       "1     [0.0552156195, 0.0592139363, -0.0166167337, -0...  \n",
       "2     [0.0279801637, 0.0339813977, -0.0206426624, 0....  \n",
       "3     [0.0682566836, 0.0381274931, -0.00846855342, -...  \n",
       "4     [0.0330264419, -0.00849762, 0.00957159325, -0....  \n",
       "...                                                 ...  \n",
       "1675  [0.0185622554, -0.0164278168, -0.0127045466, -...  \n",
       "1676  [0.0334720723, -0.0570440441, 0.0151489424, -0...  \n",
       "1677  [0.0770515278, 0.00978554226, -0.0121817542, 0...  \n",
       "1678  [0.103045151, -0.0164702311, 0.00826845877, 0....  \n",
       "1679  [0.086377345, -0.0125358514, -0.0112746833, 0....  \n",
       "\n",
       "[1680 rows x 6 columns]"
      ]
     },
     "execution_count": 37,
     "metadata": {},
     "output_type": "execute_result"
    }
   ],
   "source": [
    "import random\n",
    "\n",
    "import torch\n",
    "import numpy as np\n",
    "import pandas as pd\n",
    "device = \"cuda\" if torch.cuda.is_available() else \"cpu\"\n",
    "\n",
    "# Import texts and embeddings df\n",
    "\n",
    "text_chunks_and_embedding_df = pd.read_csv('text_chunks_and_embeddings_df.csv')\n",
    "\n",
    "# Convert embedding column back to np.array (it get converted to string when it saved to CSV)\n",
    "\"\"\"\n",
    "if code not work try this\n",
    "text_chunks_and_embedding_df[\"embedding\"] = text_chunks_and_embedding_df[\"embedding\"].apply(lambda x: np.fromstring(x.strip(\"[]\"),sep=\" \"))\n",
    "\n",
    "\"\"\"\n",
    "text_chunks_and_embedding_df[\"embedding\"] = text_chunks_and_embedding_df[\"embedding\"].apply(lambda x: np.fromstring(x.strip(\"[]\"),sep=\" \"))\n",
    "\n",
    "# text_chunks_and_embedding_df[\"embedding\"] = text_chunks_and_embedding_df[\"embedding\"].apply(lambda x: np.fromstring(x))\n",
    "embeddings = np.stack(text_chunks_and_embedding_df[\"embedding\"].tolist(),axis=0)\n",
    "\n",
    "# Convert our embeddings into torch.tensor\n",
    "embeddings = torch.tensor(np.stack(text_chunks_and_embedding_df[\"embedding\"].tolist(),axis=0),dtype=torch.float32).to(device)\n",
    "\n",
    "\n",
    "# Convert text and embedding df to list of dict\n",
    "\n",
    "pages_of_chunk = text_chunks_and_embedding_df.to_dict(orient=\"records\")\n",
    "\n",
    "text_chunks_and_embedding_df"
   ]
  },
  {
   "cell_type": "code",
   "execution_count": 38,
   "id": "d6713d23-209c-48eb-b6d8-a07f7446ae07",
   "metadata": {},
   "outputs": [
    {
     "data": {
      "text/plain": [
       "torch.Size([1680, 768])"
      ]
     },
     "execution_count": 38,
     "metadata": {},
     "output_type": "execute_result"
    }
   ],
   "source": [
    "embeddings.shape"
   ]
  },
  {
   "cell_type": "code",
   "execution_count": 39,
   "id": "eed7b65a-24fd-4e42-b05c-baae5ac46d4a",
   "metadata": {},
   "outputs": [
    {
     "data": {
      "text/plain": [
       "'\\nIf not work try this\\nembeddings = np.array(text_chunks_and_embedding_df[\"embedding\"].tolist())\\nembeddings\\n'"
      ]
     },
     "execution_count": 39,
     "metadata": {},
     "output_type": "execute_result"
    }
   ],
   "source": [
    "\"\"\"\n",
    "If not work try this\n",
    "embeddings = np.array(text_chunks_and_embedding_df[\"embedding\"].tolist())\n",
    "embeddings\n",
    "\"\"\"\n",
    "# embeddings = np.stack(text_chunks_and_embedding_df[\"embedding\"].tolist(),axis=0)\n",
    "# embeddings\n"
   ]
  },
  {
   "cell_type": "code",
   "execution_count": 40,
   "id": "703e886e-3a64-4bba-9d95-b99df818749f",
   "metadata": {},
   "outputs": [
    {
     "data": {
      "text/plain": [
       "torch.Tensor"
      ]
     },
     "execution_count": 40,
     "metadata": {},
     "output_type": "execute_result"
    }
   ],
   "source": [
    "type(embeddings)"
   ]
  },
  {
   "cell_type": "code",
   "execution_count": 41,
   "id": "eb89d181-aa56-4c8e-81cc-11f3ae1e6b1a",
   "metadata": {},
   "outputs": [
    {
     "data": {
      "text/plain": [
       "torch.Size([1680, 768])"
      ]
     },
     "execution_count": 41,
     "metadata": {},
     "output_type": "execute_result"
    }
   ],
   "source": [
    "embeddings.shape"
   ]
  },
  {
   "cell_type": "code",
   "execution_count": 42,
   "id": "50e4a0c9-3014-44c0-aed0-b02717ebb638",
   "metadata": {},
   "outputs": [],
   "source": [
    "# create model\n",
    "from sentence_transformers import util,SentenceTransformer\n",
    "embedding_model = SentenceTransformer(model_name_or_path = \"all-mpnet-base-v2\",device=device)"
   ]
  },
  {
   "cell_type": "code",
   "execution_count": 43,
   "id": "e9161886-8085-46e6-b561-7cb23359bc6f",
   "metadata": {},
   "outputs": [
    {
     "data": {
      "text/plain": [
       "SentenceTransformer(\n",
       "  (0): Transformer({'max_seq_length': 384, 'do_lower_case': False}) with Transformer model: MPNetModel \n",
       "  (1): Pooling({'word_embedding_dimension': 768, 'pooling_mode_cls_token': False, 'pooling_mode_mean_tokens': True, 'pooling_mode_max_tokens': False, 'pooling_mode_mean_sqrt_len_tokens': False, 'pooling_mode_weightedmean_tokens': False, 'pooling_mode_lasttoken': False, 'include_prompt': True})\n",
       "  (2): Normalize()\n",
       ")"
      ]
     },
     "execution_count": 43,
     "metadata": {},
     "output_type": "execute_result"
    }
   ],
   "source": [
    "embedding_model"
   ]
  },
  {
   "cell_type": "markdown",
   "id": "80a32066-bdf7-49a5-a1dc-28f77ff0882f",
   "metadata": {},
   "source": [
    "Embedding model is ready!"
   ]
  },
  {
   "cell_type": "markdown",
   "id": "bb47d648-e509-4b06-8e50-4c9b95223eaf",
   "metadata": {},
   "source": [
    "Let's create a small semantic pipeline\n",
    "\n",
    "In essence, we want to search for query (e.g. \"macronutrient functions\") and get back relavent passages from our textbook.\n",
    "\n",
    "We can do so with the following steps:\n",
    "\n",
    "1. Define a query string\n",
    "2. Turn the query into an embedding.\n",
    "3. Perform a dot product or cosin similarity function between the text embedding and the query embeddings.\n",
    "4. Sort the result from 3 descending Order."
   ]
  },
  {
   "cell_type": "code",
   "execution_count": 44,
   "id": "10500461-6a83-4d7b-986a-903dec003df1",
   "metadata": {},
   "outputs": [
    {
     "data": {
      "text/plain": [
       "tensor([[ 0.0674,  0.0902, -0.0051,  ..., -0.0221, -0.0232,  0.0126],\n",
       "        [ 0.0552,  0.0592, -0.0166,  ..., -0.0120, -0.0103,  0.0227],\n",
       "        [ 0.0280,  0.0340, -0.0206,  ..., -0.0054,  0.0213,  0.0313],\n",
       "        ...,\n",
       "        [ 0.0771,  0.0098, -0.0122,  ..., -0.0409, -0.0752, -0.0241],\n",
       "        [ 0.1030, -0.0165,  0.0083,  ..., -0.0574, -0.0283, -0.0295],\n",
       "        [ 0.0864, -0.0125, -0.0113,  ..., -0.0522, -0.0337, -0.0299]],\n",
       "       device='cuda:0')"
      ]
     },
     "execution_count": 44,
     "metadata": {},
     "output_type": "execute_result"
    }
   ],
   "source": [
    "embeddings"
   ]
  },
  {
   "cell_type": "markdown",
   "id": "2a2aea15-cd5a-4999-8db3-0536ebbcdf13",
   "metadata": {},
   "source": [
    "Note: to use dot product for comparison, ensure vector sizes of same shape (e.g. 768) and tensor/vectors are in the same datatype (e.g. both are in torch float32)"
   ]
  },
  {
   "cell_type": "code",
   "execution_count": 45,
   "id": "642ca54d-1571-4d52-8716-28f6ed699f03",
   "metadata": {},
   "outputs": [
    {
     "name": "stdout",
     "output_type": "stream",
     "text": [
      "Query: good foods for protein\n",
      "[INFO] Time taken to get score on 1680 embeddings. 0.00136 seconds.\n"
     ]
    },
    {
     "data": {
      "text/plain": [
       "torch.return_types.topk(\n",
       "values=tensor([0.7729, 0.7647, 0.6743, 0.6743, 0.6634], device='cuda:0'),\n",
       "indices=tensor([611, 616, 615, 620, 617], device='cuda:0'))"
      ]
     },
     "execution_count": 45,
     "metadata": {},
     "output_type": "execute_result"
    }
   ],
   "source": [
    "# 1. Define the query \n",
    "query = \"good foods for protein\"\n",
    "# query = \"breastfeeding timeline for infants\"\n",
    "# query = \"protein\"\n",
    "print(f\"Query: {query}\")\n",
    "\n",
    "# 2. Embed the query \n",
    "# It's importent to embed your query with the same model you embedding your passages \n",
    "query_embedding = embedding_model.encode(query,convert_to_tensor=True).to(\"cuda\")\n",
    "\n",
    "# 3. Get Similarity score with dot product (Use cosion similarity if outputs of model aren't normalize)\n",
    "\n",
    "from time import perf_counter as timer\n",
    "\n",
    "start_timer = timer()\n",
    "dot_scores = util.dot_score(a=query_embedding,b=embeddings)[0]\n",
    "end_time = timer()\n",
    "\n",
    "print(f\"[INFO] Time taken to get score on {len(embeddings)} embeddings. {end_time-start_timer:.5f} seconds.\")\n",
    "\n",
    "# 4. Get top-k results (we'll keep top 5)\n",
    "\n",
    "top_results_dot_product = torch.topk(dot_scores , k = 5)\n",
    "top_results_dot_product"
   ]
  },
  {
   "cell_type": "code",
   "execution_count": 46,
   "id": "10a54050-51f6-434d-8d75-e3a1f8e31f2e",
   "metadata": {},
   "outputs": [],
   "source": [
    "# larger_embeddings = torch.randn(200*embeddings.shape[0], 768).to(device) # as  for my device it only take at most 220\n",
    "# print(f\"Embeddings Shape : {larger_embeddings.shape}\")\n",
    "\n",
    "# # Perform dot product across 168,000 embeddings\n",
    "\n",
    "# start_timer = timer()\n",
    "# dot_scores = util.dot_score(a=query_embedding,b=larger_embeddings)[0]\n",
    "# end_time = timer()\n",
    "\n",
    "# print(f\"[INFO] Time taken to get score on {len(larger_embeddings)} embeddings. {end_time-start_timer:.5f} seconds.\")\n"
   ]
  },
  {
   "cell_type": "markdown",
   "id": "f97cbcef-d10e-4cbb-bce7-b484cbaf3c31",
   "metadata": {},
   "source": [
    "We can see that searching over embeddings is very fast.\n",
    "\n",
    "But if you had 10M + embeddings, you likely want to create an index.\n",
    "\n",
    "An index is like letter in the dictionary.\n",
    "\n",
    "For example. if you wanted to search \"duck\" in the dictionary you'd start at \"d\" then find words close to \"du..\"etc.\n",
    "\n",
    "An index helps to narrow it down.\n",
    "\n",
    "A popular indexing library for vector search is Faiss(Facebook AI Similarity Search). https://ai.meta.com/tools/faiss/\n",
    "\n",
    "One technique that the library provides is Approximate nearest neighbour search. https://en.wikipedia.org/wiki/Nearest_neighbor_search\n",
    "\n",
    "Let's make our vector search result pretty."
   ]
  },
  {
   "cell_type": "code",
   "execution_count": 47,
   "id": "8269bfad-38e9-4314-ad0c-98d49f337360",
   "metadata": {},
   "outputs": [],
   "source": [
    "import textwrap\n",
    "\n",
    "def print_wrapped(text,wrap_length=80):\n",
    "    wrapped_text = textwrap.fill(text,wrap_length)\n",
    "    print(wrapped_text)"
   ]
  },
  {
   "cell_type": "code",
   "execution_count": 48,
   "id": "4aaa3ce0-8340-417a-be6b-21ec0a9dc9ce",
   "metadata": {},
   "outputs": [
    {
     "name": "stdout",
     "output_type": "stream",
     "text": [
      "Query: 'good foods for protein'\n",
      "\n",
      "Result:\n",
      "Score: 0.7729\n",
      "Text:\n",
      "Dietary Sources of Protein The protein food group consists of foods made from\n",
      "meat, seafood, poultry, eggs, soy, dry beans, peas, and seeds. According to the\n",
      "Harvard School of Public Health, “animal protein and vegetable protein probably\n",
      "have the same effects on health. It’s the protein package that’s likely to make\n",
      "a difference.”1 1. Protein: The Bottom Line. Harvard School of Public Proteins,\n",
      "Diet, and Personal Choices | 411\n",
      "Page number: 380\n",
      "\n",
      "\n",
      "Score: 0.7647\n",
      "Text:\n",
      "Additionally, a person should consume 8 ounces of cooked seafood every week\n",
      "(typically as two 4-ounce servings) to assure they are getting the healthy\n",
      "omega-3 fatty acids that have been linked to a lower risk for heart disease.\n",
      "Another tip is choosing to eat dry beans, peas, or soy products as a main dish.\n",
      "Some of the menu choices include chili with kidney and pinto beans, hummus on\n",
      "pita bread, and black bean enchiladas. You could also enjoy nuts in a variety of\n",
      "ways. You can put them on a salad, in a stir-fry, or use them as a topping for\n",
      "steamed vegetables in place of meat or cheese. If you do not eat meat, the USDA\n",
      "has much more information on how to get all the protein you need from a plant-\n",
      "based diet. When choosing the best protein-rich foods to eat, pay attention to\n",
      "the whole nutrient package and remember to select from a variety of protein\n",
      "sources to get all the other essential micronutrients. Protein Quality While\n",
      "protein is contained in a wide variety of foods, it differs in quality. High-\n",
      "quality protein contains all the essential amino acids in the proportions needed\n",
      "by the human body. The amino acid profile of different foods is therefore one\n",
      "component of protein quality.\n",
      "Page number: 384\n",
      "\n",
      "\n",
      "Score: 0.6743\n",
      "Text:\n",
      "18.9 5.4 200 454 Tuna 3 oz. (canned) 21.7 0.2 26 99 Soybeans 1 c. (boiled) 29.0\n",
      "2.2 0 298 Lentils 1 c. (boiled) 17.9 0.1 0 226 Kidney beans 1 c. (canned) 13.5\n",
      "0.2 0 215 Sunflower seeds 1 c. 9.6 2.0 0 269 The USDA provides some tips for\n",
      "choosing your dietary protein sources. Their motto is, “Go Lean with Protein”.\n",
      "The overall suggestion is to eat a variety of protein-rich foods to benefit\n",
      "health. The USDA recommends lean meats, such as round steaks, top sirloin, extra\n",
      "lean ground beef, pork loin, and skinless chicken. Proteins, Diet, and Personal\n",
      "Choices | 413\n",
      "Page number: 383\n",
      "\n",
      "\n",
      "Score: 0.6743\n",
      "Text:\n",
      "Food PDCAAS* Milk protein 1.00 Egg white 1.00 Whey 1.00 Soy protein 1.00 Beef\n",
      "0.92 Soybeans 0.91 Chickpeas 0.78 Fruits 0.76 Vegetables 0.73 Whole wheat 0.42\n",
      "*1 is the highest rank, 0 is the lowest Protein Needs: Special Considerations\n",
      "Some groups may need to examine how to meet their protein needs more closely\n",
      "than others. We will take a closer look at the special protein considerations\n",
      "for vegetarians, the elderly, and athletes. Vegetarians and Vegans People who\n",
      "follow variations of the vegetarian diet and consume eggs and/or dairy products\n",
      "can meet their protein requirements by consuming adequate amounts of these\n",
      "foods. Vegetarians and vegans can also attain their recommended protein intakes\n",
      "if they give a little more attention to high-quality plant-based protein\n",
      "sources. However, when following a vegetarian diet, the amino acid lysine can be\n",
      "challenging to acquire. Grains, nuts, and seeds are lysine-poor foods, but tofu,\n",
      "soy, quinoa, and pistachios are all good Proteins, Diet, and Personal Choices |\n",
      "417\n",
      "Page number: 386\n",
      "\n",
      "\n",
      "Score: 0.6634\n",
      "Text:\n",
      "Foods that contain some of the essential amino acids are called incomplete\n",
      "protein sources, while those that contain all nine essential amino acids are\n",
      "called complete protein sources, or high- quality protein sources. Foods that\n",
      "are complete protein sources include animal foods such as milk, cheese, eggs,\n",
      "fish, poultry, and meat, and a few plant foods, such as soy and quinoa. The only\n",
      "animal-based protein that is not complete is gelatin, which is made of the\n",
      "protein, collagen. Figure 6.18 Complete and Incomplete Protein Sources 414 |\n",
      "Proteins, Diet, and Personal Choices\n",
      "Page number: 384\n",
      "\n",
      "\n"
     ]
    }
   ],
   "source": [
    "query=\"good foods for protein\"\n",
    "print(f\"Query: '{query}'\\n\")\n",
    "print(\"Result:\")\n",
    "# Loop through zipped togather score and indices from torch.topk\n",
    "for score,idx in zip(top_results_dot_product[0],top_results_dot_product[1]):\n",
    "    print(f\"Score: {score:.4f}\")\n",
    "    print(\"Text:\")\n",
    "    print_wrapped(pages_of_chunk[idx][\"sentence_chunk\"])\n",
    "    print(f\"Page number: {pages_and_chunks[idx][\"page_number\"]}\")\n",
    "    print(\"\\n\")"
   ]
  },
  {
   "cell_type": "markdown",
   "id": "739b957d-d6b9-4ff9-9a46-8b24652b7444",
   "metadata": {},
   "source": [
    "Note: We could potentially improve the order of these results with a reranking model. A model that has been trained specifically to take search result \n",
    "(e.g. the top 25 semantic result) and rank them in order from most likely top-1 to least likely."
   ]
  },
  {
   "cell_type": "code",
   "execution_count": 49,
   "id": "5a1e4fe7-415a-4990-ae4c-f4e19af4b890",
   "metadata": {},
   "outputs": [
    {
     "data": {
      "image/png": "[encoded data removed]",
      "text/plain": [
       "<Figure size 1300x1000 with 1 Axes>"
      ]
     },
     "metadata": {},
     "output_type": "display_data"
    }
   ],
   "source": [
    "import fitz\n",
    "\n",
    "# open pdf and load target\n",
    "pdf_path = \"human-nutrition-text.pdf\"\n",
    "doc = fitz.open(pdf_path)\n",
    "page = doc.load_page(411+41)\n",
    "\n",
    "# Get the image of page\n",
    "\n",
    "img = page.get_pixmap(dpi=300)\n",
    "\n",
    "# Save image (optional)\n",
    "# img.save(\"output_filname.png\")\n",
    "\n",
    "doc.close()\n",
    "\n",
    "img_array = np.frombuffer(img.samples_mv,\n",
    "                          dtype=np.uint8).reshape((img.h,img.w,img.n))\n",
    "\n",
    "# Display the image using matplotlib\n",
    "import matplotlib.pyplot as plt\n",
    "plt.figure(figsize=(13,10))\n",
    "plt.imshow(img_array)\n",
    "plt.title(f\"Query '{query}' | Most relevant page:\")\n",
    "plt.axis(\"off\")\n",
    "plt.show()"
   ]
  },
  {
   "cell_type": "markdown",
   "id": "c4b6a5f2-3696-4665-8393-bbd9e587658b",
   "metadata": {},
   "source": [
    "#### Similarity Measured: dot product and cosine similarity"
   ]
  },
  {
   "cell_type": "code",
   "execution_count": 50,
   "id": "0f48d8c1-c41b-4438-a69d-5fec3623f9ae",
   "metadata": {},
   "outputs": [
    {
     "name": "stdout",
     "output_type": "stream",
     "text": [
      "Dot product between vector1 and vector2: tensor(14.)\n",
      "Dot product between vector1 and vector3: tensor(32.)\n",
      "Dot product between vector1 and vector4: tensor(-14.)\n",
      "Cosine similarity between vector1 and vector2: tensor(1.0000)\n",
      "Cosine similarity between vector1 and vector3: tensor(0.9746)\n",
      "Cosine similarity between vector1 and vector4: tensor(-1.0000)\n"
     ]
    }
   ],
   "source": [
    "import torch\n",
    "\n",
    "def dot_product(vector1,vector2):\n",
    "    return torch.dot(vector1,vector2)\n",
    "def cosion_similarity(vector1,vector2):\n",
    "    dot_product = torch.dot(vector1,vector2)\n",
    "\n",
    "    # Get Euclidean/L2norm\n",
    "\n",
    "    norm_vector1 = torch.sqrt(torch.sum(vector1**2))\n",
    "    norm_vector2 = torch.sqrt(torch.sum(vector2**2))\n",
    "\n",
    "    return dot_product / (norm_vector1 * norm_vector2)\n",
    "\n",
    "# Example vector/tensor\n",
    "vector1 = torch.tensor([1,2,3],dtype=torch.float32)\n",
    "vector2 = torch.tensor([1,2,3],dtype=torch.float32)\n",
    "vector3 = torch.tensor([4,5,6],dtype=torch.float32)\n",
    "vector4 = torch.tensor([-1,-2,-3],dtype=torch.float32)\n",
    "\n",
    "# Calculate dot product\n",
    "print(\"Dot product between vector1 and vector2:\", dot_product(vector1,vector2))\n",
    "print(\"Dot product between vector1 and vector3:\", dot_product(vector1,vector3))\n",
    "print(\"Dot product between vector1 and vector4:\", dot_product(vector1,vector4))\n",
    "\n",
    "# Cosine similarity\n",
    "print(\"Cosine similarity between vector1 and vector2:\", cosion_similarity(vector1,vector2))\n",
    "print(\"Cosine similarity between vector1 and vector3:\", cosion_similarity(vector1,vector3))\n",
    "print(\"Cosine similarity between vector1 and vector4:\", cosion_similarity(vector1,vector4))"
   ]
  },
  {
   "cell_type": "code",
   "execution_count": 51,
   "id": "db572ccf-68f5-4230-973b-26f3eddcdefe",
   "metadata": {},
   "outputs": [],
   "source": [
    "# embedding_model.encode(\"Yo Yo Yo\")\n",
    "# we are using dot product becase our vector are already normalized"
   ]
  },
  {
   "cell_type": "markdown",
   "id": "a6ac54ea-ce29-4309-9d19-8fabe6650e64",
   "metadata": {},
   "source": [
    "### Functionizing our semantic search pipeline\n",
    "\n",
    "Let's pull all of the steps from above for semantic search into function so we can repeat workflow"
   ]
  },
  {
   "cell_type": "code",
   "execution_count": 52,
   "id": "258b5e62-be33-43eb-abc8-03685c14f0cf",
   "metadata": {},
   "outputs": [],
   "source": [
    "def retrieve_relevant_resources(query:str,\n",
    "                                embeddings: torch.tensor,\n",
    "                                model: SentenceTransformer=embedding_model,\n",
    "                                n_resources_to_return: int=5,\n",
    "                                print_time : bool = True):\n",
    "    \"\"\"\n",
    "    Embeds a query with model and return top k scores and indices from embeddings\n",
    "    \"\"\"\n",
    "\n",
    "    # Embed the query\n",
    "    query_embedding = model.encode(query,convert_to_tensor=True)\n",
    "\n",
    "    # Get dot product scores and embeddings\n",
    "    start_time = timer()\n",
    "    dot_scores = util.dot_score(query_embedding, embeddings)[0]\n",
    "    end_time = timer()\n",
    "\n",
    "    if print_time:\n",
    "        print(f\"[INFO] Time taken to get score on {len(embeddings)} embeddings: {end_time-start_time:.5f} seconds.\")\n",
    "\n",
    "    scores,indices = torch.topk(input=dot_scores,\n",
    "                                k = n_resources_to_return)\n",
    "    return scores, indices\n",
    "\n",
    "def print_top_results_and_scores(query:str,\n",
    "                                 embeddings:torch.tensor,\n",
    "                                 pages_and_chunks: list[dict]=pages_and_chunks,\n",
    "                                 n_resources_to_return: int=5):\n",
    "    \"\"\"\n",
    "    Finds relevant passages given a query and prints them out along with there scores.\n",
    "    \"\"\"\n",
    "\n",
    "    scores,indices = retrieve_relevant_resources(query=query,\n",
    "                                                 embeddings=embeddings,\n",
    "                                                     n_resources_to_return=n_resources_to_return)\n",
    "    for score,idx in zip(scores,indices):\n",
    "        print(f\"Score: {score:.4f}\")\n",
    "        print(\"Text:\")\n",
    "        print_wrapped(pages_of_chunk[idx][\"sentence_chunk\"])\n",
    "        print(f\"Page number: {pages_and_chunks[idx][\"page_number\"]}\")\n",
    "        print(\"\\n\")"
   ]
  },
  {
   "cell_type": "code",
   "execution_count": 53,
   "id": "d39ff952-160f-4137-8f58-82720a59cfe8",
   "metadata": {},
   "outputs": [
    {
     "name": "stdout",
     "output_type": "stream",
     "text": [
      "[INFO] Time taken to get score on 1680 embeddings: 0.00008 seconds.\n",
      "[INFO] Time taken to get score on 1680 embeddings: 0.00007 seconds.\n",
      "Score: 0.6964\n",
      "Text:\n",
      "• Change it up a bit and experience the taste and satisfaction of other whole\n",
      "grains such as barley, quinoa, and bulgur. • Eat snacks high in fiber, such as\n",
      "almonds, pistachios, raisins, and air-popped popcorn. Add an artichoke and green\n",
      "peas to your dinner plate more 276 | Carbohydrates and Personal Diet Choices\n",
      "Page number: 255\n",
      "\n",
      "\n",
      "Score: 0.6810\n",
      "Text:\n",
      "Dietary fiber is categorized as either water-soluble or insoluble. Some examples\n",
      "of soluble fibers are inulin, pectin, and guar gum and they are found in peas,\n",
      "beans, oats, barley, and rye. Cellulose and lignin are insoluble fibers and a\n",
      "few dietary sources of them are whole-grain foods, flax, cauliflower, and\n",
      "avocados. Cellulose is the most abundant fiber in plants, making up the cell\n",
      "walls and providing structure. Soluble fibers are more easily accessible to\n",
      "bacterial enzymes in the large intestine so they can be broken down to a greater\n",
      "extent than insoluble fibers, but even some breakdown of cellulose and other\n",
      "insoluble fibers occurs. The last class of fiber is functional fiber. Functional\n",
      "fibers have been added to foods and have been shown to provide health benefits\n",
      "to humans. Functional fibers may be extracted from plants and purified or\n",
      "synthetically made. An example of a functional fiber is psyllium-seed husk.\n",
      "Scientific studies show that consuming psyllium-seed husk reduces blood-\n",
      "cholesterol levels and this health claim has been approved by the FDA.\n",
      "Page number: 217\n",
      "\n",
      "\n",
      "Score: 0.5566\n",
      "Text:\n",
      "Humans and animals store glucose energy from starches in the form of the very\n",
      "large molecule, glycogen. It has many branches that allow it to break down\n",
      "quickly when energy is needed by cells in the body. It is predominantly found in\n",
      "liver and muscle tissue in animals. Dietary Fibers Dietary fibers are\n",
      "polysaccharides that are highly branched and cross-linked. Some dietary fibers\n",
      "are pectin, gums, cellulose, hemicellulose, and lignin. Lignin, however, is not\n",
      "composed of carbohydrate units. Humans do not produce the enzymes that can break\n",
      "down dietary fiber; however, bacteria in the large intestine (colon) do. Dietary\n",
      "fibers are very beneficial to our health. The Dietary Guidelines Advisory\n",
      "Committee states that there is enough scientific evidence to support that diets\n",
      "high in fiber reduce the risk for obesity and diabetes, which are primary risk\n",
      "factors for cardiovascular disease.2 2. US Department of Agriculture.\n",
      "Page number: 216\n",
      "\n",
      "\n",
      "Score: 0.5344\n",
      "Text:\n",
      "potatoes, broccoli, apples, mango, papaya , guavas, blueberries, and\n",
      "strawberries in main and side dishes. Vary your choices to get the benefit of as\n",
      "many different vegetables and fruits as you can. You may choose to drink fruit\n",
      "juice as a replacement for eating fruit. (As long as the juice is 100 percent\n",
      "fruit juice and only half your fruit intake is replaced with juice, this is an\n",
      "acceptable exchange.)For snacks, eat fruits, vegetables, or unsalted nuts. Fill\n",
      "a quarter of your plate with whole grains such as 100 percent whole-grain\n",
      "cereals, breads, crackers, rice, and pasta. Half of your daily grain intake\n",
      "should be whole grains. Read the ingredients list on food labels carefully to\n",
      "determine if a food is comprised of whole grains. Select a variety of protein\n",
      "foods to improve nutrient intake and promote health benefits. Each week, be sure\n",
      "to include a nice array of protein sources in your diet, such as nuts, seeds,\n",
      "beans, legumes, poultry, soy, and seafood.\n",
      "Page number: 674\n",
      "\n",
      "\n",
      "Score: 0.5187\n",
      "Text:\n",
      "Foods Total Carbohydrates Sugars Fiber Added Sugars Banana 27 (1 medium) 14.40\n",
      "3.1 0 Lentils 40 (1 c.) 3.50 16.0 0 Snap beans 8.7 (1 c.) 1.60 4.0 0 Green\n",
      "pepper 5.5 (1 medium) 2.90 2.0 0 Corn tortilla 10.7 (1) 0.20 1.5 0 Bread, wheat\n",
      "bran 17.2 (1 slice) 3.50 1.4 3.4 Bread, rye 15.5 (1 slice) 1.20 1.9 1.0 Bagel\n",
      "(plain) 53 (1 medium) 5.30 2.3 4.8 Brownie 36 (1 square) 20.50 1.2 20.0 Oatmeal\n",
      "cookie 22.3 (1 oz.) 12.00 2.0 7.7 Cornflakes 23 (1 c.) 1.50 0.3 1.5 Pretzels 47\n",
      "(10 twists) 1.30 1.7 0 Popcorn (homemade) 58 (100 g) 0.50 10.0 0 Skim milk 12 (1\n",
      "c.) 12.00 0 0 Cream (half and half) 0.65 (1 Tbs.) 0.02 0 0 Cream substitute 1.0\n",
      "(1 tsp.) 1.00 0 1.0 Cheddar cheese 1.3 (1 slice) 0.50 0 0 Yogurt (with fruit)\n",
      "32.3 (6 oz.) 32.30 0 19.4 Caesar dressing 2.8 (1 Tbs.) 2.80 0 2.4 Sources: •\n",
      "National Nutrient Database for Standard Reference. US Department of\n",
      "Agriculture.http://www.nal.usda.gov/fnic/ foodcomp/search/. Updated December 7,\n",
      "2011. Accessed September 17, 2017. • Database for the Added Sugars Content of\n",
      "Selected Foods.\n",
      "Page number: 251\n",
      "\n",
      "\n"
     ]
    }
   ],
   "source": [
    "query = \"foods high in fiber\"\n",
    "retrieve_relevant_resources(query=query,embeddings=embeddings)\n",
    "print_top_results_and_scores(query=query, embeddings=embeddings)"
   ]
  },
  {
   "cell_type": "markdown",
   "id": "4804e3ee-451c-47ae-bf86-c065aa43541a",
   "metadata": {},
   "source": [
    "### Getting an LLM for local Generation\n",
    "\n",
    "We want to focus on local generation.\n",
    "\n",
    "However, this process is also work for LLM local api.\n",
    "\n",
    "What is generative LLM?\n",
    "\n",
    "Goes from text input -> generate text output\n",
    "\n",
    "Which llm should i used?\n",
    "\n",
    "* How much hardware VRAM do you have avaiable?"
   ]
  },
  {
   "cell_type": "markdown",
   "id": "bca2d511-a8bc-493f-8134-138ad5e04dd8",
   "metadata": {},
   "source": [
    "### Checking local gpu memory availability"
   ]
  },
  {
   "cell_type": "code",
   "execution_count": 54,
   "id": "512a4a72-47d3-4619-a50d-a4767e7fdfdd",
   "metadata": {},
   "outputs": [
    {
     "name": "stdout",
     "output_type": "stream",
     "text": [
      "Availabe GPU memory: 4 GB\n"
     ]
    }
   ],
   "source": [
    "# Get GPU available memory?\n",
    "import torch\n",
    "gpu_memory_bytes = torch.cuda.get_device_properties(0).total_memory\n",
    "gpu_memory_gb = round(gpu_memory_bytes / (2**30))\n",
    "print(f\"Availabe GPU memory: {gpu_memory_gb} GB\")"
   ]
  },
  {
   "cell_type": "code",
   "execution_count": 55,
   "id": "932d3071-ab38-414f-a742-ca941213399a",
   "metadata": {},
   "outputs": [
    {
     "name": "stdout",
     "output_type": "stream",
     "text": [
      "Sat Feb 22 07:59:02 2025       \n",
      "+---------------------------------------------------------------------------------------+\n",
      "| NVIDIA-SMI 531.14                 Driver Version: 531.14       CUDA Version: 12.1     |\n",
      "|-----------------------------------------+----------------------+----------------------+\n",
      "| GPU  Name                      TCC/WDDM | Bus-Id        Disp.A | Volatile Uncorr. ECC |\n",
      "| Fan  Temp  Perf            Pwr:Usage/Cap|         Memory-Usage | GPU-Util  Compute M. |\n",
      "|                                         |                      |               MIG M. |\n",
      "|=========================================+======================+======================|\n",
      "|   0  NVIDIA GeForce GTX 1650       WDDM | 00000000:01:00.0 Off |                  N/A |\n",
      "| N/A   67C    P0               16W /  N/A|   2156MiB /  4096MiB |      5%      Default |\n",
      "|                                         |                      |                  N/A |\n",
      "+-----------------------------------------+----------------------+----------------------+\n",
      "                                                                                         \n",
      "+---------------------------------------------------------------------------------------+\n",
      "| Processes:                                                                            |\n",
      "|  GPU   GI   CI        PID   Type   Process name                            GPU Memory |\n",
      "|        ID   ID                                                             Usage      |\n",
      "|=======================================================================================|\n",
      "|    0   N/A  N/A     18296      C   ...ta\\Local\\Programs\\Ollama\\ollama.exe    N/A      |\n",
      "|    0   N/A  N/A     27116      C   ...rograms\\Python\\Python312\\python.exe    N/A      |\n",
      "+---------------------------------------------------------------------------------------+\n"
     ]
    }
   ],
   "source": [
    "!nvidia-smi"
   ]
  },
  {
   "cell_type": "markdown",
   "id": "cb030a47-a2b8-44e0-8283-8310fc1c8194",
   "metadata": {},
   "source": [
    "Note\n",
    "* to use `gemma-7b-it` or other Gemma models, you have to accept terms & condition on hugging face \n",
    "* to download models and run locally from hugging face you may need to sing in to hugging face cli"
   ]
  },
  {
   "cell_type": "code",
   "execution_count": 56,
   "id": "ffb3bf74-74f4-43f1-bb92-a14a8ab0157d",
   "metadata": {},
   "outputs": [
    {
     "name": "stdout",
     "output_type": "stream",
     "text": [
      "GPU memory: 6.0 | Recommended model: Gemma 2B in 4-bit precision.\n",
      "use_quantization_config set to: True\n",
      "model_id set to: google/gemma-2b-it\n"
     ]
    }
   ],
   "source": [
    "from transformers.utils.quantization_config import BitsAndBytesConfig\n",
    "\n",
    "# Initialize variables with default values\n",
    "use_quantization_config = False\n",
    "model_id = None\n",
    "\n",
    "# Example GPU memory value (replace with actual value)\n",
    "gpu_memory_gb = 6.0  # Replace this with the actual GPU memory in GB\n",
    "\n",
    "# Define quantization config (example)\n",
    "quantization_config = BitsAndBytesConfig(\n",
    "    times_tensor=\"max\",\n",
    "    onnx_export=True,\n",
    "    # Add other parameters as needed\n",
    ")\n",
    "\n",
    "# Determine the model and quantization settings based on GPU memory\n",
    "if gpu_memory_gb < 5.1:\n",
    "    print(f\"Your available GPU memory is {gpu_memory_gb}GB, you may not have enough memory to run a Gemma LLM locally without quantization.\")\n",
    "elif gpu_memory_gb < 8.1:\n",
    "    print(f\"GPU memory: {gpu_memory_gb} | Recommended model: Gemma 2B in 4-bit precision.\")\n",
    "    use_quantization_config = True\n",
    "    model_id = \"google/gemma-2b-it\"\n",
    "elif gpu_memory_gb < 19.0:\n",
    "    print(f\"GPU memory: {gpu_memory_gb} | Recommended model: Gemma 2B in float16 or Gemma 7B in 4-bit precision.\")\n",
    "    use_quantization_config = False\n",
    "    model_id = \"google/gemma-2b-it\"\n",
    "elif gpu_memory_gb >= 19.0:\n",
    "    print(f\"GPU memory: {gpu_memory_gb} | Recommended model: Gemma 7B in 4-bit or float16 precision.\")\n",
    "    use_quantization_config = False\n",
    "    model_id = \"google/gemma-7b-it\"\n",
    "\n",
    "# Print the final settings\n",
    "print(f\"use_quantization_config set to: {use_quantization_config}\")\n",
    "print(f\"model_id set to: {model_id}\")"
   ]
  },
  {
   "cell_type": "markdown",
   "id": "e778d024-e6e9-4aeb-bb01-a88671a841a8",
   "metadata": {},
   "source": [
    "### Loding an LLM locally\n",
    "\n",
    "We can load an llm locally using hugging-face transformers\n",
    "\n",
    "The model I'm going to use on my NVIDIA RTX 4090 - https://huggingface.co/google/gemma-7b-it\n",
    "\n",
    "To get a model running local we're going to need a few things:\n",
    "1. A quantization config (optional) - a config on what precision to load the model in (e.g. 8bit, 4bit, etc)\n",
    "2. A model ID - this will tell transformers which model/tokenizer to load\n",
    "3. A tokenizer - this turns text into numbers ready for the LLM (note: a tokenizer is different from an embedding model)\n",
    "4. An LLM model - this will be what we use to generate text based on an input!\n",
    "> **Note:** There are many tips and tricks on loading/making LLMs work faster. One of the best ones is flash_attn (Flash Attention 2). See the GitHub for more: https://github.com/Dao-AILab/flash-attention"
   ]
  },
  {
   "cell_type": "code",
   "execution_count": 57,
   "id": "1a29ec74-21dd-48e2-8e4e-99a67aa52739",
   "metadata": {},
   "outputs": [],
   "source": [
    "# !pip install git+https://github.com/huggingface/accelerate.git\n",
    "# !pip install git+https://github.com/huggingface/transformers.git\n",
    "# !pip install bitsandbytes\n",
    "# !pip install vllm\n",
    "# !pip install torch torchvision torchaudio --index-url https://download.pytorch.org/whl/cu121"
   ]
  },
  {
   "cell_type": "markdown",
   "id": "8794fa4d-2782-4591-8dd0-2f73945b91cf",
   "metadata": {},
   "source": [
    "No, **FlashAttention** is **not supported** on your **GTX 1650** because:  \n",
    "\n",
    "### **Why FlashAttention Won't Work on GTX 1650**\n",
    "1. ❌ **Requires Tensor Cores:** FlashAttention is optimized for **NVIDIA GPUs with Tensor Cores**, which are available in **Ampere (RTX 30-series)** and later architectures. The **GTX 1650 (Turing, TU117)** lacks Tensor Cores.  \n",
    "2. ❌ **Needs CUDA >= 11.6 and SM >= 7.5:** FlashAttention requires **CUDA 11.6+** and GPUs with **Compute Capability 7.5+**. Your **GTX 1650 has Compute Capability 7.5** (some versions have 7.0), but **lacks required hardware acceleration**.  \n",
    "3. ❌ **Low Memory Bandwidth:** FlashAttention is designed for GPUs with **high memory bandwidth** (e.g., RTX 30/40 series), while GTX 1650 has **lower bandwidth (~128 GB/s)**.  \n",
    "\n",
    "### **Alternative Solutions for GTX 1650**\n",
    "Since FlashAttention won't work, try:  \n",
    "✅ **PagedAttention (vLLM)** – Efficient for low-VRAM GPUs  \n",
    "✅ **BitsAndBytes (4-bit/8-bit quantization)** – Reduces memory usage  \n",
    "✅ **CPU Offloading** – Moves attention layers to CPU (slower but works)  \n",
    "\n",
    "Would you like help setting up **PagedAttention or quantization** for better performance? 🚀"
   ]
  },
  {
   "cell_type": "code",
   "execution_count": 58,
   "id": "cac0cbb8-d390-49ba-af3c-21471cd65161",
   "metadata": {},
   "outputs": [
    {
     "name": "stdout",
     "output_type": "stream",
     "text": [
      "Using attention implementation: sdpa\n"
     ]
    },
    {
     "data": {
      "application/vnd.jupyter.widget-view+json": {
       "model_id": "6fc8c57e4e214697a31393bc24250792",
       "version_major": 2,
       "version_minor": 0
      },
      "text/plain": [
       "Loading checkpoint shards:   0%|          | 0/2 [00:00<?, ?it/s]"
      ]
     },
     "metadata": {},
     "output_type": "display_data"
    },
    {
     "name": "stdout",
     "output_type": "stream",
     "text": [
      "Model loaded on device: cuda\n"
     ]
    }
   ],
   "source": [
    "import torch\n",
    "from transformers import AutoTokenizer, AutoModelForCausalLM, BitsAndBytesConfig\n",
    "from transformers.utils import is_flash_attn_2_available\n",
    "\n",
    "# 1. Create a quantization config\n",
    "# Note: requires !pip install bitsandbytes accelerate\n",
    "use_quantization_config = True  # Set this to False if you don't want to use quantization\n",
    "quantization_config = BitsAndBytesConfig(\n",
    "    load_in_4bit=True,\n",
    "    bnb_4bit_compute_dtype=torch.float16\n",
    ") if use_quantization_config else None\n",
    "\n",
    "# Bonus: flash attention 2 = faster attention mechanism\n",
    "# Flash Attention 2 requires a GPU with a compute capability score of 8.0+ (Ampere, Ada Lovelace, Hopper and above): https://developer.nvidia.com/cuda-gpus \n",
    "if (is_flash_attn_2_available()) and (torch.cuda.get_device_capability(0)[0] >= 8):\n",
    "    attn_implementation = \"flash_attention_2\"\n",
    "else:\n",
    "    attn_implementation = \"sdpa\"  # scaled dot product attention\n",
    "print(f\"Using attention implementation: {attn_implementation}\")\n",
    "\n",
    "# 2. Pick a model we'd like to use\n",
    "model_id = \"google/gemma-2b-it\"\n",
    "\n",
    "# 3. Instantiate tokenizer (tokenizer turns text into tokens)\n",
    "tokenizer = AutoTokenizer.from_pretrained(pretrained_model_name_or_path=model_id)\n",
    "\n",
    "# 4. Instantiate the model\n",
    "llm_model = AutoModelForCausalLM.from_pretrained(\n",
    "    pretrained_model_name_or_path=model_id,\n",
    "    torch_dtype=torch.float16,\n",
    "    quantization_config=quantization_config,\n",
    "    low_cpu_mem_usage=True,  # Use meta device for loading\n",
    "    attn_implementation=attn_implementation\n",
    ")\n",
    "\n",
    "# Move the model to the GPU and initialize weights\n",
    "if not use_quantization_config:\n",
    "    device = \"cuda\"\n",
    "    llm_model.to_empty(device=device)  # Move to GPU and initialize weights\n",
    "    llm_model.to(torch.float16)  # Ensure the model is in the correct dtype\n",
    "else:\n",
    "    device = \"cuda\" if torch.cuda.is_available() else \"cpu\"\n",
    "    llm_model.to(device)  # Quantized models are already initialized\n",
    "\n",
    "print(f\"Model loaded on device: {device}\")"
   ]
  },
  {
   "cell_type": "code",
   "execution_count": 59,
   "id": "90401cb3-2e63-4d6e-af43-fc6c81657cb8",
   "metadata": {},
   "outputs": [
    {
     "data": {
      "text/plain": [
       "GemmaForCausalLM(\n",
       "  (model): GemmaModel(\n",
       "    (embed_tokens): Embedding(256000, 2048, padding_idx=0)\n",
       "    (layers): ModuleList(\n",
       "      (0-17): 18 x GemmaDecoderLayer(\n",
       "        (self_attn): GemmaAttention(\n",
       "          (q_proj): Linear4bit(in_features=2048, out_features=2048, bias=False)\n",
       "          (k_proj): Linear4bit(in_features=2048, out_features=256, bias=False)\n",
       "          (v_proj): Linear4bit(in_features=2048, out_features=256, bias=False)\n",
       "          (o_proj): Linear4bit(in_features=2048, out_features=2048, bias=False)\n",
       "        )\n",
       "        (mlp): GemmaMLP(\n",
       "          (gate_proj): Linear4bit(in_features=2048, out_features=16384, bias=False)\n",
       "          (up_proj): Linear4bit(in_features=2048, out_features=16384, bias=False)\n",
       "          (down_proj): Linear4bit(in_features=16384, out_features=2048, bias=False)\n",
       "          (act_fn): GELUActivation()\n",
       "        )\n",
       "        (input_layernorm): GemmaRMSNorm((2048,), eps=1e-06)\n",
       "        (post_attention_layernorm): GemmaRMSNorm((2048,), eps=1e-06)\n",
       "      )\n",
       "    )\n",
       "    (norm): GemmaRMSNorm((2048,), eps=1e-06)\n",
       "    (rotary_emb): GemmaRotaryEmbedding()\n",
       "  )\n",
       "  (lm_head): Linear(in_features=2048, out_features=256000, bias=False)\n",
       ")"
      ]
     },
     "execution_count": 59,
     "metadata": {},
     "output_type": "execute_result"
    }
   ],
   "source": [
    "llm_model"
   ]
  },
  {
   "cell_type": "code",
   "execution_count": 60,
   "id": "5f757b0a-0d5b-4cad-867e-310175e0f3ee",
   "metadata": {},
   "outputs": [
    {
     "data": {
      "text/plain": [
       "1515268096"
      ]
     },
     "execution_count": 60,
     "metadata": {},
     "output_type": "execute_result"
    }
   ],
   "source": [
    "def get_model_num_params(model: torch.nn.Module):\n",
    "    return sum([param.numel() for param in model.parameters()])\n",
    "get_model_num_params(llm_model)"
   ]
  },
  {
   "cell_type": "code",
   "execution_count": 61,
   "id": "05c703b7-6cc6-433e-b558-d935e96592d2",
   "metadata": {},
   "outputs": [
    {
     "data": {
      "text/plain": [
       "{'model_mem_bytes': 2039632384,\n",
       " 'model_mem_mb': 1945.14501953125,\n",
       " 'model_mem_gb': 1.8995556831359863}"
      ]
     },
     "execution_count": 61,
     "metadata": {},
     "output_type": "execute_result"
    }
   ],
   "source": [
    "def get_model_mem_size(model: torch.nn.Module):\n",
    "    # Get model parameters and buffer size\n",
    "    mem_params = sum([param.nelement() *  param.element_size() for param in model.parameters()])\n",
    "    mem_buffers = sum([buf.nelement() *  buf.element_size() for buf in model.buffers()])\n",
    "\n",
    "    # Calculate model sizes\n",
    "    model_mem_bytes = mem_params + mem_buffers\n",
    "    model_mem_mb = model_mem_bytes / (1024**2)\n",
    "    model_mem_gb = model_mem_bytes / (1024**3)\n",
    "\n",
    "    return {\"model_mem_bytes\":model_mem_bytes,\n",
    "            \"model_mem_mb\" : model_mem_mb,\n",
    "            \"model_mem_gb\" : model_mem_gb}\n",
    "\n",
    "get_model_mem_size(llm_model)\n",
    "    "
   ]
  },
  {
   "cell_type": "markdown",
   "id": "5592ae81-e2fb-45ed-aca2-9acadf70e4c7",
   "metadata": {},
   "source": [
    "We got the size our model.\n",
    "\n",
    "This means to load Gemma 7b-it in float16 we need a minimum of 16GB of VRAM, however due to the calculations that take place in the forward pass, we actually need closer to 19GB."
   ]
  },
  {
   "cell_type": "markdown",
   "id": "df65418e-1b96-4a54-af20-77e56880b9e6",
   "metadata": {},
   "source": [
    "# Generating text with our LLM\n",
    "Let's generate text with our local LLM!\n",
    "\n",
    "**Note** : Some models have been trained/tuned to generate text with a specific template in mind.\n",
    "Because `gemma-2b` has been trained in an instruction-tuned manner, we should follow the instruction template for the best results"
   ]
  },
  {
   "cell_type": "code",
   "execution_count": 62,
   "id": "03a256a9-d688-4219-8f7d-ce95453d60ab",
   "metadata": {},
   "outputs": [
    {
     "name": "stdout",
     "output_type": "stream",
     "text": [
      "Input text:\n",
      "What are the macronutrients and what are their functions in the body?\n",
      "\n",
      "Prompt (formatted):\n",
      "<bos><start_of_turn>user\n",
      "What are the macronutrients and what are their functions in the body?<end_of_turn>\n",
      "<start_of_turn>model\n",
      "\n"
     ]
    }
   ],
   "source": [
    "input_text = \"What are the macronutrients and what are their functions in the body?\"\n",
    "# input_text = \"h?\"\n",
    "print(f\"Input text:\\n{input_text}\")\n",
    "\n",
    "# Create prompt template for instruction-tuned model\n",
    "dialogue_template = [\n",
    "    {\"role\": \"user\",\n",
    "     \"content\": input_text}\n",
    "]\n",
    "\n",
    "# Apply the chat template\n",
    "prompt = tokenizer.apply_chat_template(conversation=dialogue_template,\n",
    "                                       tokenize=False,\n",
    "                                       add_generation_prompt=True)\n",
    "print(f\"\\nPrompt (formatted):\\n{prompt}\")"
   ]
  },
  {
   "cell_type": "code",
   "execution_count": null,
   "id": "4f62b031-558e-447a-8dff-d1a6de3f44f2",
   "metadata": {},
   "outputs": [],
   "source": []
  },
  {
   "cell_type": "code",
   "execution_count": 63,
   "id": "1b6b82da-5b8a-45f7-a4e4-710fd8a9959a",
   "metadata": {},
   "outputs": [],
   "source": [
    "# tokenizer"
   ]
  },
  {
   "cell_type": "code",
   "execution_count": 64,
   "id": "87a5d28f-dcc9-4813-a24c-c7e1c840c4d8",
   "metadata": {},
   "outputs": [
    {
     "name": "stdout",
     "output_type": "stream",
     "text": [
      "Model Output (tokens):\n",
      " tensor([     2,      2,    106,   1645,    108,   1841,    708,    573, 186809,\n",
      "        184592,    578,   1212,    708,   1024,   7257,    575,    573,   2971,\n",
      "        235336,    107,    108,    106,   2516,    108,  21404, 235269,   1517,\n",
      "        235303, 235256,    476,  25497,    576,    573, 186809, 184592,    578,\n",
      "          1024,   7257,    575,    573,   2971, 235292,    109,    688,  12298,\n",
      "          1695, 184592,  66058,    109, 235287,   5231, 156615,  56227,  66058,\n",
      "         34428,   4134,    578,    708,    573,   2971, 235303, 235256,   7920,\n",
      "          4303,    576,   9719, 235265,   2365,    708,   1942,    575,  16512,\n",
      "          1154,  11843, 235269,  22512, 235269,  12463, 235269,    578,  16803,\n",
      "        235265,    108, 235287,   5231,  49471,  66058,  47839,    604,   4547,\n",
      "           578,  68808,  29703, 235269,   3547,  44760, 235269,    578,  17839,\n",
      "         53186, 235265,   1165,    603,   1942,    575,  11827, 235269,   5001,\n",
      "        235269,  12776, 235269, 102871, 235269,    578,  22606, 235265,    108,\n",
      "        235287,   5231,  33690,  66058,  76805,    476,  20305,   4731,    575,\n",
      "         42696,   4584, 235269,   3027,  42336, 235269,    578,  38823, 235265,\n",
      "          1165,    603,   1942,    575,  61926, 235269,  29536, 235269,    578,\n",
      "          1009,   4829, 235290,   6576,   8269, 235265,    109,    688,  35211,\n",
      "           576,  97586, 184592,  66058,    109, 235287,   5231,  23920,   4584,\n",
      "         66058, 110165,  56227,    708,  10127,   1706,   1280,  30859, 235269,\n",
      "           948,    603,   1671,    731,   5999,    604,   4134, 235265,    108,\n",
      "        235287,   5231,  25251,    578,  12158,  66058,  96084,    708,   1671,\n",
      "           577,   2500,    578,  12158,  29703, 235269,   1582,    685,  22488,\n",
      "        235269,  22241, 235269,    578,  82426, 235265,    108, 235287,   5231,\n",
      "        144568,    785,   4584,  66058, 217891,    708,   7784,    774,  20361,\n",
      "           578,   1554,    476,  14595,   4731,    575,  61779,   4282,  55786,\n",
      "          7257, 235269,   3359,  34883, 235269,   5115, 235269,    578,  31152,\n",
      "        235265,    108, 235287,   5231,   9557,  66058,   4213, 186809, 184592,\n",
      "        235269,   1582,    685,  72780,    578,  61926, 235269,    708,  14608,\n",
      "           604,   3416,   1281, 235265,    109,    688,  12298,   1695,   7208,\n",
      "           579, 152614,  66058,    109,    651,   2971,   4026,    476,  24748,\n",
      "         25739,    576, 186809, 184592,    577,  10528,  19735,   2962, 235265,\n",
      "           714,  10064,   7074, 186809,   7208,    579,  33177,    604,  14257,\n",
      "           708, 235292,    109, 235287, 235248, 235310, 235308, 235290, 235318,\n",
      "        235308, 235358,  72780,    108, 235287, 235248, 235274, 235276, 235290,\n",
      "        235304, 235276, 235358,   9646,    108, 235287, 235248, 235284, 235276,\n",
      "        235290, 235304, 235308, 235358,   6181,    109,    688,  90531,    576,\n",
      "         97586, 184592,  66058,    109, 177283,    476,  24748,  11652,   7277,\n",
      "           575, 186809, 184592,    603,   8727,    604,   8691,   2962,    578,\n",
      "          1578, 235290,  16978, 235265, 140014,  25739,    576, 186809, 184592,\n",
      "         15093, 235292,    109, 235287,   5231,  23920,   4584,  66058,  57697,\n",
      "           573,   2971,    675,    573,   9719,    665,   4026,    577,   1411,\n",
      "         10338, 235265,    108, 235287,   5231,  25251,    578,  12158,  66058,\n",
      "         64783,   2500,    578,  10528,  29703, 235269,  22488, 235269,    578,\n",
      "         29998, 235265,    108, 235287,   5231, 144568,    785,   4584,  66058,\n",
      "          3100,  26885,   4282,  55786,   7257, 235269,   3359,  34883, 235269,\n",
      "          5115, 235269,    578,  31152, 235265,    108, 235287,   5231,   9793,\n",
      "          4815,  66058,    586,  24748,  11652,    675,   3591, 186809,   7208,\n",
      "           579,  33177,    798,   1707,  10528,    476,   9606,   5171, 235265,\n",
      "           109,    688,   5041,  66058,   1165, 235303, 235256,   2845,    577,\n",
      "          4670,    674,    573,  10064,  33177,   1249,  11633,  13478,    611,\n",
      "          7549,   1582,    685,   3911, 235269,   5500, 235269,   5640,   2403,\n",
      "        235269,    578,   8691,   2962,   9082, 235265,      1],\n",
      "       device='cuda:0')\n",
      "\n",
      "CPU times: total: 35.4 s\n",
      "Wall time: 35.7 s\n"
     ]
    }
   ],
   "source": [
    "%%time\n",
    "\n",
    "# Tokenize the input text (turn it into numbers) and send it to GPU\n",
    "\n",
    "input_ids = tokenizer(prompt,\n",
    "                      return_tensors=\"pt\").to(\"cuda\")\n",
    "# input_ids\n",
    "\n",
    "# Generate outputs from local LLM\n",
    "outputs = llm_model.generate(**input_ids,\n",
    "                             max_new_tokens = 512)\n",
    "\n",
    "print(f\"Model Output (tokens):\\n {outputs[0]}\\n\") "
   ]
  },
  {
   "cell_type": "code",
   "execution_count": 65,
   "id": "733178a5-fc6b-4e85-b252-01626be4e250",
   "metadata": {},
   "outputs": [
    {
     "name": "stdout",
     "output_type": "stream",
     "text": [
      "Model Output (decoded):\n",
      "<bos><bos><start_of_turn>user\n",
      "What are the macronutrients and what are their functions in the body?<end_of_turn>\n",
      "<start_of_turn>model\n",
      "Sure, here's a breakdown of the macronutrients and their functions in the body:\n",
      "\n",
      "**Macronutrients:**\n",
      "\n",
      "* **Carbohydrates:** Provide energy and are the body's primary source of fuel. They are found in foods like bread, pasta, rice, and fruits.\n",
      "* **Protein:** Essential for building and repairing tissues, making enzymes, and producing hormones. It is found in meat, fish, eggs, legumes, and nuts.\n",
      "* **Fat:** Plays a crucial role in hormone production, cell signaling, and insulation. It is found in fats, oils, and some plant-based sources.\n",
      "\n",
      "**Functions of Macronutrients:**\n",
      "\n",
      "* **Energy production:** Carbohydrates are broken down into glucose, which is used by cells for energy.\n",
      "* **Building and repair:** Proteins are used to build and repair tissues, such as muscles, bones, and cartilage.\n",
      "* **Hormone production:** Hormones are produced from proteins and play a vital role in regulating various bodily functions, including metabolism, growth, and reproduction.\n",
      "* **Storage:** Some macronutrients, such as carbohydrates and fats, are stored for later use.\n",
      "\n",
      "**Macronutrient Ratios:**\n",
      "\n",
      "The body needs a balanced intake of macronutrients to maintain optimal health. The recommended daily macronutrient ratios for adults are:\n",
      "\n",
      "* 45-65% carbohydrates\n",
      "* 10-30% protein\n",
      "* 20-35% fat\n",
      "\n",
      "**Importance of Macronutrients:**\n",
      "\n",
      "Maintaining a balanced diet rich in macronutrients is essential for overall health and well-being. Adequate intake of macronutrients supports:\n",
      "\n",
      "* **Energy production:** Provides the body with the fuel it needs to function properly.\n",
      "* **Building and repair:** Helps build and maintain tissues, muscles, and organs.\n",
      "* **Hormone production:** Regulates various bodily functions, including metabolism, growth, and reproduction.\n",
      "* **Weight management:** A balanced diet with proper macronutrient ratios can help maintain a healthy weight.\n",
      "\n",
      "**Note:** It's important to note that the recommended ratios may vary depending on factors such as age, sex, activity level, and overall health goals.<eos>\n",
      "\n"
     ]
    }
   ],
   "source": [
    "# Decode the output tokens to texts\n",
    "output_decode = tokenizer.decode(outputs[0])\n",
    "print(f\"Model Output (decoded):\\n{output_decode}\\n\")"
   ]
  },
  {
   "cell_type": "code",
   "execution_count": 66,
   "id": "bd9d2b0e-e976-45ab-8a94-0681b5690288",
   "metadata": {},
   "outputs": [
    {
     "data": {
      "text/plain": [
       "['What are the macronutrients, and what roles do they play in the human body?',\n",
       " 'How do vitamins and minerals differ in their roles and importance for health?',\n",
       " 'Describe the process of digestion and absorption of nutrients in the human body.',\n",
       " 'What role does fibre play in digestion? Name five fibre containing foods.',\n",
       " 'Explain the concept of energy balance and its importance in weight management.',\n",
       " 'How often should infants be breastfed?',\n",
       " 'What are symptoms of pellagra?',\n",
       " 'How does saliva help with digestion?',\n",
       " 'What is the RDI for protein per day?',\n",
       " 'water soluble vitamins']"
      ]
     },
     "execution_count": 66,
     "metadata": {},
     "output_type": "execute_result"
    }
   ],
   "source": [
    "# Nutrition-style questions generated with GPT4\n",
    "gpt4_questions = [\n",
    "    \"What are the macronutrients, and what roles do they play in the human body?\",\n",
    "    \"How do vitamins and minerals differ in their roles and importance for health?\",\n",
    "    \"Describe the process of digestion and absorption of nutrients in the human body.\",\n",
    "    \"What role does fibre play in digestion? Name five fibre containing foods.\",\n",
    "    \"Explain the concept of energy balance and its importance in weight management.\"\n",
    "]\n",
    "\n",
    "# Manually created question list\n",
    "manual_questions = [\n",
    "    \"How often should infants be breastfed?\",\n",
    "    \"What are symptoms of pellagra?\",\n",
    "    \"How does saliva help with digestion?\",\n",
    "    \"What is the RDI for protein per day?\",\n",
    "    \"water soluble vitamins\"\n",
    "]\n",
    "\n",
    "query_list = gpt4_questions + manual_questions\n",
    "query_list"
   ]
  },
  {
   "cell_type": "code",
   "execution_count": 67,
   "id": "8484f980-92ba-4b80-93bb-0d7c49607070",
   "metadata": {},
   "outputs": [
    {
     "name": "stdout",
     "output_type": "stream",
     "text": [
      "Query : How do vitamins and minerals differ in their roles and importance for health?\n",
      "[INFO] Time taken to get score on 1680 embeddings: 0.00007 seconds.\n"
     ]
    },
    {
     "data": {
      "text/plain": [
       "(tensor([0.6322, 0.6220, 0.6187, 0.6178, 0.6128], device='cuda:0'),\n",
       " tensor([ 51,  47, 874,  41, 927], device='cuda:0'))"
      ]
     },
     "execution_count": 67,
     "metadata": {},
     "output_type": "execute_result"
    }
   ],
   "source": [
    "import random\n",
    "\n",
    "query = random.choice(query_list)\n",
    "print(f\"Query : {query}\")\n",
    "\n",
    "\n",
    "# Get just scores and indices of top related results \n",
    "scores, indices = retrieve_relevant_resources(query=query,embeddings=embeddings)\n",
    "scores, indices"
   ]
  },
  {
   "cell_type": "markdown",
   "id": "f6728444-97eb-4124-babe-4485ffb8e9b6",
   "metadata": {},
   "source": [
    "### Augmenting our prompt with context items\n",
    "\n",
    "We've done retrieval.\n",
    "\n",
    "We've done generation.\n",
    "\n",
    "Time to augment!\n",
    "\n",
    "The concept of augmenting a prompt with context items is also referred as prompt engineering.\n",
    "\n",
    "Prompt engineering is an active field of research and many new styles and techniques are being found out.\n",
    "\n",
    "However, there are a fair few techniques that work quite well.\n",
    "\n",
    "Resources:\n",
    "\n",
    "* https://www.promptingguide.ai/\n",
    "* https://github.com/brexhq/prompt-engineering\n",
    "* https://www.anthropic.com/news/prompt-engineering-for-business-performance\n",
    "We're going to use a couple of prompting technqiues:\n",
    "\n",
    "1. Give clear instructions.\n",
    "2. Give a few examples of input/output (e.g. given this input, I'd like this output).\n",
    "3. Give room to think (e.g. create a scratchpad/\"show your working space\"/\"let's think step by step...\".\n",
    "Let's create a function to format a prompt with context items."
   ]
  },
  {
   "cell_type": "code",
   "execution_count": 75,
   "id": "8c8d7d9e-b0e8-42f3-9bf4-de068f37075e",
   "metadata": {},
   "outputs": [
    {
     "data": {
      "text/plain": [
       "{'page_number': 257,\n",
       " 'sentence_chunk': 'Image by Forluvoft / Public Domain Sparing Protein In a situation where there is not enough glucose to meet the body’s needs, glucose is synthesized from amino acids. Because there is no storage molecule of amino acids, this process requires the destruction of proteins, primarily from muscle tissue. The presence of adequate glucose basically spares the breakdown of proteins from being used to make glucose needed by the body. Lipid Metabolism As blood-glucose levels rise, the use of lipids as an energy source is The Functions of Carbohydrates in the Body | 257',\n",
       " 'chunk_char_count': 565,\n",
       " 'chunk_word_count': 93,\n",
       " 'chunk_token_count': 141.25}"
      ]
     },
     "execution_count": 75,
     "metadata": {},
     "output_type": "execute_result"
    }
   ],
   "source": [
    "pages_and_chunks[420]"
   ]
  },
  {
   "cell_type": "code",
   "execution_count": 112,
   "id": "440753b1-aaca-4045-9f39-7bc513fb5d01",
   "metadata": {},
   "outputs": [
    {
     "name": "stdout",
     "output_type": "stream",
     "text": [
      "Query: What are symptoms of pellagra?\n",
      "[INFO] Time taken to get score on 1680 embeddings: 0.00019 seconds.\n"
     ]
    }
   ],
   "source": [
    "def prompt_formatter(query: str,\n",
    "                     context_items: list[dict]) -> str:\n",
    "    context = \"- \" + \"\\n- \".join([item[\"sentence_chunk\"] for item in context_items])\n",
    "\n",
    "#     base_prompt = \"\"\"Based on the following context items, please answer the query.\n",
    "# Give yourself room to think by extracting relevant passages from the context before answering the query.\n",
    "# Don't return the thinking, only return the answer.\n",
    "# Make sure your answers are as explanatory as possible.\n",
    "# Use the following examples as reference for the ideal answer style.\n",
    "# \\nExample 1:\n",
    "# Query: What are the fat-soluble vitamins?\n",
    "# Answer: The fat-soluble vitamins include Vitamin A, Vitamin D, Vitamin E, and Vitamin K. These vitamins are absorbed along with fats in the diet and can be stored in the body's fatty tissue and liver for later use. Vitamin A is important for vision, immune function, and skin health. Vitamin D plays a critical role in calcium absorption and bone health. Vitamin E acts as an antioxidant, protecting cells from damage. Vitamin K is essential for blood clotting and bone metabolism.\n",
    "# \\nExample 2:\n",
    "# Query: What are the causes of type 2 diabetes?\n",
    "# Answer: Type 2 diabetes is often associated with overnutrition, particularly the overconsumption of calories leading to obesity. Factors include a diet high in refined sugars and saturated fats, which can lead to insulin resistance, a condition where the body's cells do not respond effectively to insulin. Over time, the pancreas cannot produce enough insulin to manage blood sugar levels, resulting in type 2 diabetes. Additionally, excessive caloric intake without sufficient physical activity exacerbates the risk by promoting weight gain and fat accumulation, particularly around the abdomen, further contributing to insulin resistance.\n",
    "# \\nExample 3:\n",
    "# Query: What is the importance of hydration for physical performance?\n",
    "# Answer: Hydration is crucial for physical performance because water plays key roles in maintaining blood volume, regulating body temperature, and ensuring the transport of nutrients and oxygen to cells. Adequate hydration is essential for optimal muscle function, endurance, and recovery. Dehydration can lead to decreased performance, fatigue, and increased risk of heat-related illnesses, such as heat stroke. Drinking sufficient water before, during, and after exercise helps ensure peak physical performance and recovery.\n",
    "# \\nNow use the following context items to answer the user query:\n",
    "# {context}\n",
    "# \\nRelevant passages: <extract relevant passages from the context here>\n",
    "# User query: {query}\n",
    "# Answer:\"\"\" \n",
    "#     base_prompt = base_prompt.format(context=context,\n",
    "#                                      query=query)\n",
    "\n",
    "#     # Create prompt template for instruction-tuned model \n",
    "#     dialogue_template = [\n",
    "#         {\"role\": \"user\",\n",
    "#          \"content\": base_prompt}\n",
    "#     ]\n",
    "\n",
    "    # Apply the chat template\n",
    "    # prompt = tokenizer.apply_chat_template(conversation=dialogue_template,\n",
    "    #                                        tokenize=False,\n",
    "    #                                        add_generation_prompt=True)\n",
    "    prompt = context\n",
    "    \n",
    "    return prompt\n",
    "\n",
    "query = random.choice(query_list) \n",
    "print(f\"Query: {query}\")\n",
    "\n",
    "# Get relevant resources\n",
    "scores, indices = retrieve_relevant_resources(query=query,\n",
    "                                              embeddings=embeddings)\n",
    "\n",
    "# Create a list of context items\n",
    "context_items = [pages_and_chunks[i] for i in indices]\n",
    "\n",
    "# Format our prompt\n",
    "prompt = prompt_formatter(query=query,\n",
    "                          context_items=context_items)\n",
    "# print(prompt)"
   ]
  },
  {
   "cell_type": "code",
   "execution_count": 113,
   "id": "8030e698-4116-44b9-ac96-ec9827690248",
   "metadata": {},
   "outputs": [],
   "source": [
    "new_cont=[]\n",
    "for i in indices:\n",
    "    new_cont.append(pages_and_chunks[i]['sentence_chunk'])\n",
    "    "
   ]
  },
  {
   "cell_type": "code",
   "execution_count": 125,
   "id": "de511bda-f651-4e2e-9387-4509405e88a4",
   "metadata": {},
   "outputs": [
    {
     "name": "stdout",
     "output_type": "stream",
     "text": [
      "Query: Describe the process of digestion and absorption of nutrients in the human body.\n",
      "[INFO] Time taken to get score on 1680 embeddings: 0.00008 seconds.\n",
      "Based on the following context items, please answer the query.\n",
      "Context items:\n",
      "- To this day, kefir is one of the most widely enjoyed beverages in Russia. Kefir has since found its way into America, where it is marketed in 56 | Introduction\n",
      "- Each of your individual cells is a compact and efficient form of life—self- sufficient, yet interdependent upon the other cells within your body to supply its needs. Independent single-celled organisms must conduct all the basic processes of life. The single-celled organism must take in nutrients (energy capture), excrete wastes, detect and respond to its environment, move, breathe, grow, and reproduce. Even a one- celled organism must be organized to perform these essential processes. All cells are organized from the atomic level to all its larger forms. Oxygen and hydrogen atoms combine to make the 62 | Basic Biology, Anatomy, and Physiology\n",
      "- http://pacifichealthdialog.org.fj/ Volume2011/no2/ PHD1120220p2162022120Yamada20orig.pdf. Accessed October 19, 2017. 230 | Introduction\n",
      "- Image by Allison Calabrese / CC BY 4.0 once it begins. As you swallow, the bolus is pushed from the mouth through the pharynx and into a muscular tube called the esophagus. As the bolus travels through the pharynx, a small flap called the epiglottis closes to prevent choking by keeping food from going into the trachea. Peristaltic contractions also known as peristalsis in the esophagus propel the food bolus down to the stomach (Figure 3.6 “Peristalsis in the Esophagus”). At the junction between the esophagus and stomach there is a sphincter muscle that remains closed until the food bolus approaches. The pressure of the food bolus stimulates the lower esophageal sphincter to relax and open and food then moves from the esophagus into the stomach. The mechanical breakdown of food is accentuated by the muscular contractions of the stomach and small intestine that mash, mix, slosh, and propel food down the alimentary canal. Solid food takes between four and eight seconds to travel down the esophagus, and liquids take about one second. Figure 2.6 Peristalsis in the Esophagus The Digestive System | 73\n",
      "- Protein Supplements Protein supplements include powders made from compounds such as whey, soy or amino acids that either come as a powder or in capsules. We have noted that the protein requirements for most people, even those that are active, is not high. Is taking protein supplements ever justified, then?Neither protein nor amino acid supplements have been scientifically proven to improve exercise performance or increase strength. In addition, the average American already consumes more protein than is required. Despite these facts, many highly physically active individuals use protein or amino acid supplements. According to the AND, American College of Sports Medicine, and Dietitians of Canada, “the current evidence indicates that protein and amino acid supplements are no more or no less effective than food when energy is adequate for gaining lean body mass.”5 Branched-chain amino acids, such as leucine, are often touted as a way to build muscle tissue and enhance athletic performance. Despite these marketing claims, a review in the June 2005 issue of The Journal of Nutrition shows that most studies that evaluated a variety of exercise types failed to show any performance-enhancing effects of taking branched-chain amino acids.6 5. American College of Sports Medicine, Academy of Nutrition and Dietetics, and Dietitians of Canada. (\n",
      "Query: Describe the process of digestion and absorption of nutrients in the human body.\n",
      "\n"
     ]
    }
   ],
   "source": [
    "def prompt_formatter(query: str,\n",
    "                     context_items: list[dict]) -> str:\n",
    "    context = \"- \" + \"\\n- \".join([item[\"sentence_chunk\"] for item in context_items])\n",
    "\n",
    "    base_prompt = f\"\"\"Based on the following context items, please answer the query.\n",
    "Context items:\n",
    "{context}\n",
    "Query: {query}\n",
    "\"\"\"\n",
    "    prompt = base_prompt.format(context=context,\n",
    "                                query=query)\n",
    "    \n",
    "    return prompt\n",
    "\n",
    "query = random.choice(query_list) \n",
    "print(f\"Query: {query}\")\n",
    "\n",
    "# Get relevant resources\n",
    "scores, indices = retrieve_relevant_resources(query=query,\n",
    "                                              embeddings=embeddings)\n",
    "\n",
    "# Create a list of context items\n",
    "context_items = [pages_and_chunks[i] for i in indices]\n",
    "\n",
    "# Format our prompt\n",
    "prompt = prompt_formatter(query=query,\n",
    "                          context_items=context_items)\n",
    "print(prompt)"
   ]
  },
  {
   "cell_type": "code",
   "execution_count": null,
   "id": "be98bfff-ca2c-46ea-9ef7-ab420706e822",
   "metadata": {
    "scrolled": true
   },
   "outputs": [],
   "source": []
  },
  {
   "cell_type": "code",
   "execution_count": null,
   "id": "776c3c90-ce54-4c36-b478-19913ce491df",
   "metadata": {},
   "outputs": [],
   "source": []
  },
  {
   "cell_type": "code",
   "execution_count": 98,
   "id": "92315840-c12f-4484-9074-a2d51922f405",
   "metadata": {},
   "outputs": [
    {
     "data": {
      "text/plain": [
       "tensor([1548,  360,  373,  380,  379], device='cuda:0')"
      ]
     },
     "execution_count": 98,
     "metadata": {},
     "output_type": "execute_result"
    }
   ],
   "source": [
    "indices"
   ]
  },
  {
   "cell_type": "code",
   "execution_count": 99,
   "id": "2aa56aa9-fe5f-4fdb-ba41-293f65b02851",
   "metadata": {},
   "outputs": [],
   "source": [
    "# [item[\"sentence_chunk\"] for item in context_items]"
   ]
  },
  {
   "cell_type": "code",
   "execution_count": 122,
   "id": "6766ac68-3a44-4cfe-84cd-567170345121",
   "metadata": {},
   "outputs": [
    {
     "name": "stdout",
     "output_type": "stream",
     "text": [
      "Query: How do vitamins and minerals differ in their roles and importance for health?\n",
      "RAG answer:\n",
      " <bos>The context does not provide information about vitamins and minerals, so I cannot answer this question from the context.<eos>\n",
      "CPU times: total: 11.1 s\n",
      "Wall time: 11.2 s\n"
     ]
    }
   ],
   "source": [
    "%%time\n",
    "\n",
    "input_ids = tokenizer(prompt, return_tensors=\"pt\").to(\"cuda\")\n",
    "\n",
    "# Generate an ouput of tokens\n",
    "\n",
    "outputs = llm_model.generate(**input_ids,\n",
    "                             temperature=0.7, # from 0 to 1 and the lower the value , the more determenistic text, the higher the value, the more creative.\n",
    "                             do_sample = True, # whether or not use sampling\n",
    "                             max_new_tokens = 256)\n",
    "\n",
    "# Turn the output token into text\n",
    "output_text = tokenizer.decode(outputs[0])\n",
    "print(f\"Query: {query}\")\n",
    "print(f\"RAG answer:\\n {output_text.replace(prompt, '')}\")\n",
    "                             \n",
    "                             "
   ]
  },
  {
   "cell_type": "markdown",
   "id": "dbc1d58e-3a1d-4d83-b22e-5227047379b0",
   "metadata": {},
   "source": [
    "### Functionize our LLM answering feature\n",
    "\n",
    "wouldn't it be cool if RAG pipeline worked from single function?\n",
    "\n",
    "E.g. you input a query and you get generate answer + optionally also get the source documents (the context) where the answer was generated from.\n",
    "\n",
    "Let's make a function to do it!\n"
   ]
  },
  {
   "cell_type": "markdown",
   "id": "bd1305b4-e6aa-4052-8cc4-dbb29b7ad0a4",
   "metadata": {},
   "source": [
    "# ask(\"what are the fat-soluble vitamins?\")"
   ]
  },
  {
   "cell_type": "code",
   "execution_count": 84,
   "id": "6b268969-75c2-4b84-a885-896c7a719f6b",
   "metadata": {},
   "outputs": [],
   "source": [
    "def ask(query: str,\n",
    "        temperature: float=0.7,\n",
    "        max_new_tokens:int=256,\n",
    "        format_answer_text=True,\n",
    "        return_answer_only=True):\n",
    "    \"\"\"\n",
    "    Takes a query, finds relevant resources/context and generates an answer to the query based on the relevant resources.\n",
    "    \"\"\"\n",
    "\n",
    "    # RETRIEVAL\n",
    "    # Get just the scores and indices of top related results\n",
    "    scores, indices = retrieve_relevant_resources(query=query,\n",
    "                                                  embeddings=embeddings)\n",
    "\n",
    "    # Create a list of context items\n",
    "    context_items = [pages_and_chunks[i] for i in indices] \n",
    "\n",
    "    # Add score to context item\n",
    "    for i, item in enumerate(context_items): \n",
    "        item[\"score\"] = scores[i].cpu()\n",
    "\n",
    "    # AUGMENTATION\n",
    "    # Create the prompt and format it with context items\n",
    "    prompt = prompt_formatter(query=query,\n",
    "                              context_items=context_items)\n",
    "\n",
    "    # GENERATION\n",
    "    # Tokenize the prompt\n",
    "    input_ids = tokenizer(prompt, return_tensors=\"pt\").to(\"cuda\")\n",
    "\n",
    "    # Generate an output of tokens\n",
    "    outputs = llm_model.generate(**input_ids,\n",
    "                                 temperature=temperature,\n",
    "                                 do_sample=True,\n",
    "                                 max_new_tokens=max_new_tokens)\n",
    "\n",
    "    # Decode the tokens into text\n",
    "    output_text = tokenizer.decode(outputs[0])\n",
    "\n",
    "    # Format the answer\n",
    "    if format_answer_text:\n",
    "        # Replace prompt and special tokens\n",
    "        output_text = output_text.replace(prompt, \"\").replace(\"<bos>\", \"\").replace(\"<eos>\", \"\")\n",
    "\n",
    "    # Only return the answer without context items\n",
    "    if return_answer_only:\n",
    "        return output_text\n",
    "\n",
    "    return output_text, context_items"
   ]
  },
  {
   "cell_type": "code",
   "execution_count": 85,
   "id": "730a80f2-4e66-488a-8197-bfda29e25be2",
   "metadata": {},
   "outputs": [
    {
     "name": "stdout",
     "output_type": "stream",
     "text": [
      "Query: How does saliva help with digestion?\n",
      "[INFO] Time taken to get score on 1680 embeddings: 0.00006 seconds.\n"
     ]
    },
    {
     "data": {
      "text/plain": [
       "(\"2000). Caffeine and Parkinson’s disease: a review of the literature. Journal of the American Medical Association, 293(18), 1073–1080. 3.\\xa0Kwan HR, et al. (2001). Caffeine intake and risk of Parkinson’s disease. Neurology, 119(6), 1021–1027.\\n\\n**Caffeine's effects on health are complex and depend on individual factors.**\\n\\n**Here are some key points to remember about caffeine's effects on health:**\\n\\n- Caffeine can have both positive and negative effects on health.\\n- The effects of caffeine depend on individual factors, including genetics, metabolism, and sensitivity to caffeine.\\n- Caffeine can reduce the risk of Type 2 diabetes and Parkinson's disease.\\n- Caffeine can also have other health effects, such as anxiety, insomnia, and headaches.\\n- It is important to consume caffeine in moderation and to be aware of your individual caffeine sensitivity.\\n\\n**Conclusion:**\\n\\nCaffeine is a complex substance with both positive and negative effects on health. The effects of caffeine depend on individual factors, including genetics, metabolism, and sensitivity to caffeine. Caffeine can reduce\",\n",
       " [{'page_number': 218,\n",
       "   'sentence_chunk': 'People’s sensitivity to the adverse effects of caffeine varies and some people develop side effects at much lower doses. The many effects caffeine has on the brain do not diminish with habitual drinking of caffeinated beverages. Tools for Change Consuming caffeine in the evening and in the middle of the night will help keep you awake to study for an exam, but it will not enhance your performance on the next day’s test if you do not get enough sleep. Drink caffeinated beverages in moderation at any time of the day or evening to increase alertness (if you are not sensitive to caffeine’s adverse effects), but get the recommended amount of sleep. It is important to note that caffeine has some effects on health that are either promoted or masked by the other beneficial 218 | Popular Beverage Choices',\n",
       "   'chunk_char_count': 805,\n",
       "   'chunk_word_count': 139,\n",
       "   'chunk_token_count': 201.25,\n",
       "   'score': tensor(0.6383)},\n",
       "  {'page_number': 66,\n",
       "   'sentence_chunk': 'Table 2.1 The Eleven Organ Systems in the Human Body and Their Major Functions Organ System Organ Components Major Function Cardiovascular heart, blood/lymph vessels, blood, lymph Transport nutrients and waste products Digestive mouth, esophagus, stomach, intestines Digestion and absorption Endocrine all glands (thyroid, ovaries, pancreas) Produce and release hormones Lymphatic tonsils, adenoids, spleen and thymus A one-way system of vessels that transport lymph throughout the body Immune white blood cells, lymphatic tissue, marrow Defend against foreign invaders Integumentary skin, nails, hair, sweat glands Protective, body temperature regulation Muscular skeletal, smooth, and cardiac muscle Body movement Nervous brain, spinal cord, nerves Interprets and responds to stimuli Reproductive gonads, genitals Reproduction and sexual characteristics Respiratory lungs, nose, mouth, throat, trachea Gas exchange Skeletal bones, tendons, ligaments, joints Structure and support Urinary, Excretory kidneys, bladder, ureters Waste excretion, water balance 66 | Basic Biology, Anatomy, and Physiology',\n",
       "   'chunk_char_count': 1101,\n",
       "   'chunk_word_count': 144,\n",
       "   'chunk_token_count': 275.25,\n",
       "   'score': tensor(0.6099)},\n",
       "  {'page_number': 219,\n",
       "   'sentence_chunk': 'Photo by Jeremy Ricketts on unsplash.co m / CC0 chemicals found in coffee and tea. This means that when assessing the benefits and consequences of your caffeine intake, you must take into account how much caffeine in your diet comes from coffee and tea versus how much you obtain from soft drinks. There is scientific evidence supporting that higher consumption of caffeine, mostly in the form of coffee, substantially reduces the risk for developing Type 2 diabetes and Parkinson’s disease. There is a lesser amount of evidence suggesting increased coffee consumption lowers the risk of heart attacks in both men and women, and strokes in women. In smaller population studies, decaffeinated coffee sometimes performs as well as caffeinated coffee, bringing up the hypothesis that there are beneficial chemicals in coffee other than caffeine that play larger roles in the health benefits of coffee. A review of fifteen epidemiological studies in The Journal of the American Medical Association proposes that habitual coffee consumption reduces the risk of Type 2 diabetes.1 The risk 1.\\xa0van Dam R M, Hu FB. (2005). Coffee Consumption and Risk of Type 2 Diabetes: A Systematic Review. Journal of Popular Beverage Choices | 219',\n",
       "   'chunk_char_count': 1224,\n",
       "   'chunk_word_count': 196,\n",
       "   'chunk_token_count': 306.0,\n",
       "   'score': tensor(0.5877)},\n",
       "  {'page_number': 62,\n",
       "   'sentence_chunk': 'Each of your individual cells is a compact and efficient form of life—self- sufficient, yet interdependent upon the other cells within your body to supply its needs. Independent single-celled organisms must conduct all the basic processes of life.\\xa0The single-celled organism must take in nutrients (energy capture), excrete wastes, detect and respond to its environment, move, breathe, grow, and reproduce. Even a one- celled organism must be organized to perform these essential processes. All cells are organized from the atomic level to all its larger forms. Oxygen and hydrogen atoms combine to make the 62 | Basic Biology, Anatomy, and Physiology',\n",
       "   'chunk_char_count': 651,\n",
       "   'chunk_word_count': 100,\n",
       "   'chunk_token_count': 162.75,\n",
       "   'score': tensor(0.5853)},\n",
       "  {'page_number': 220,\n",
       "   'sentence_chunk': 'reduction was 35 percent for those who consumed greater than 6–7 cups of coffee per day and was 28 percent for those who consumed 4–5 cups daily. These groups were compared with people who consumed less than 2 cups of coffee per day. Parkinson’s disease is an illness of the central nervous system causing many disorders of movement. Research scientists in Hawai‘i found an inverse relationship between caffeine intake and the incidence of Parkinson’s disease. Men who did not consume coffee had a five times more likely chance of Parkinson’s disease than men who consumed more than 3 cups of coffee daily.2 In this study other caffeine sources, such as soft drinks and tea, were also associated with a reduced risk of Parkinson’s disease. A review of several studies, published in the Journal of Alzheimer’s Disease, has reaffirmed that caffeine intake may reduce the risk of Parkinson’s disease in both men and women.3 This review also took into consideration caffeine obtained from dietary sources other the American Medical\\xa0Association,\\xa0294(1), 97–104. http://jamanetwork.com/journals/jama/article- abstract/201177. Accessed September 22, 2017. 2.\\xa0Ross GW, et al. (',\n",
       "   'chunk_char_count': 1169,\n",
       "   'chunk_word_count': 180,\n",
       "   'chunk_token_count': 292.25,\n",
       "   'score': tensor(0.5845)}])"
      ]
     },
     "execution_count": 85,
     "metadata": {},
     "output_type": "execute_result"
    }
   ],
   "source": [
    "query = random.choice(query_list)\n",
    "print(f\"Query: {query}\")\n",
    "ask(query=query,\n",
    "    temperature=0.2,\n",
    "    return_answer_only=False)"
   ]
  },
  {
   "cell_type": "code",
   "execution_count": null,
   "id": "b52831e7-c900-4c15-8891-2c623cf9f575",
   "metadata": {},
   "outputs": [],
   "source": []
  }
 ],
 "metadata": {
  "kernelspec": {
   "display_name": "Python 3 (ipykernel)",
   "language": "python",
   "name": "python3"
  },
  "language_info": {
   "codemirror_mode": {
    "name": "ipython",
    "version": 3
   },
   "file_extension": ".py",
   "mimetype": "text/x-python",
   "name": "python",
   "nbconvert_exporter": "python",
   "pygments_lexer": "ipython3",
   "version": "3.12.4"
  }
 },
 "nbformat": 4,
 "nbformat_minor": 5
}
